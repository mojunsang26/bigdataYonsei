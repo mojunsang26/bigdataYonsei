{
 "cells": [
  {
   "cell_type": "code",
   "execution_count": 2,
   "metadata": {},
   "outputs": [
    {
     "name": "stdout",
     "output_type": "stream",
     "text": [
      "division by zero\n"
     ]
    }
   ],
   "source": [
    "#예외처리 예제\n",
    "try:\n",
    "    #t = open('abc.txt')\n",
    "    #t.close()\n",
    "    4/0\n",
    "except FileNotFoundError as fe:\n",
    "    print(fe)\n",
    "except Exception as e:\n",
    "    print(e)"
   ]
  },
  {
   "cell_type": "code",
   "execution_count": 5,
   "metadata": {},
   "outputs": [
    {
     "name": "stdout",
     "output_type": "stream",
     "text": [
      "3\n"
     ]
    }
   ],
   "source": [
    "#다음 코드의 result 실행 결과를 작성하십시오\n",
    "\n",
    "#예외 발생하면 해당하는 except 처리 후 try문 빠져 나간다.\n",
    "result = 0\n",
    "try:\n",
    "    [1,2,3][3]\n",
    "    \"a\"+1\n",
    "    4/0\n",
    "except TypeError:\n",
    "    result += 1\n",
    "except ZeroDivisionError:\n",
    "    result += 2\n",
    "except IndexError:\n",
    "    result += 3\n",
    "print(result)"
   ]
  },
  {
   "cell_type": "code",
   "execution_count": 21,
   "metadata": {},
   "outputs": [
    {
     "name": "stdout",
     "output_type": "stream",
     "text": [
      "10 / 5 = 2\n",
      "9 / 4 = 2\n",
      "90 / 10 = 9\n",
      "두 번째 숫자가 0입니다\n"
     ]
    }
   ],
   "source": [
    "#다음 내용을 포함한 파일 numbers.txt를 만든 후\n",
    "#10 5\n",
    "#9 4\n",
    "#90 10\n",
    "#4 0\n",
    "#30 6\n",
    "#100 100\n",
    "#(1) 파일을 현재 작업 디렉토리가 아닌 곳으로 옮기고 프로그램을 실행한 경우\n",
    "#    다음과 같은 내용이 출력됩니다.\n",
    "#Cannot found file: numbers.txt\n",
    "#\n",
    "#(2) 파일을 현재 작업 디렉토리로 옮긴 후\n",
    "#    각 line의 첫 번째 숫자를 두 번째 숫자로 나눈 몫을 화면에 출력하십시오.\n",
    "#다음과 같이 출력됩니다.\n",
    "#\n",
    "#10 / 5 = 2\n",
    "#9 / 4 = 2\n",
    "#90 / 10 = 9\n",
    "#두 번째 숫자가 0입니다.\n",
    "\n",
    "try:\n",
    "    f = open('numbers.txt','r')\n",
    "    while True:\n",
    "        line = f.readline()\n",
    "        if not line:\n",
    "            break\n",
    "        a, b = line.split()\n",
    "        print(a, \"/\", b, \"=\", int(a)//int(b))\n",
    "    f.close()\n",
    "except FileNotFoundError:\n",
    "    print('Cannot found file: numbers.txt')\n",
    "except ZeroDivisionError:\n",
    "    print('두 번째 숫자가 0입니다')\n",
    "    f.close()"
   ]
  },
  {
   "cell_type": "code",
   "execution_count": null,
   "metadata": {
    "collapsed": true
   },
   "outputs": [],
   "source": []
  }
 ],
 "metadata": {
  "kernelspec": {
   "display_name": "Python 3",
   "language": "python",
   "name": "python3"
  },
  "language_info": {
   "codemirror_mode": {
    "name": "ipython",
    "version": 3
   },
   "file_extension": ".py",
   "mimetype": "text/x-python",
   "name": "python",
   "nbconvert_exporter": "python",
   "pygments_lexer": "ipython3",
   "version": "3.6.1"
  }
 },
 "nbformat": 4,
 "nbformat_minor": 2
}
