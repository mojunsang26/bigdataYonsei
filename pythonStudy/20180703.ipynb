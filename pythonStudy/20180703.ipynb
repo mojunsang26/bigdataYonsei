{
 "cells": [
  {
   "cell_type": "code",
   "execution_count": 2,
   "metadata": {},
   "outputs": [
    {
     "name": "stdout",
     "output_type": "stream",
     "text": [
      "정수 입력:12452\n",
      "[12452]\n",
      "[]\n"
     ]
    }
   ],
   "source": [
    "value = int(input('정수 입력:'))\n",
    "odd = []\n",
    "even = []\n",
    "if value%2 == 1:\n",
    "    odd.append(value)\n",
    "else:\n",
    "    even.append(value)\n",
    "print(even)\n",
    "print(odd)"
   ]
  },
  {
   "cell_type": "code",
   "execution_count": 2,
   "metadata": {},
   "outputs": [
    {
     "name": "stdout",
     "output_type": "stream",
     "text": [
      "25\n"
     ]
    }
   ],
   "source": [
    "n=1\n",
    "while 1:\n",
    "    if n**3 > 15000:\n",
    "        print(n)\n",
    "        break\n",
    "    n = n+1"
   ]
  },
  {
   "cell_type": "code",
   "execution_count": 1,
   "metadata": {},
   "outputs": [
    {
     "name": "stdout",
     "output_type": "stream",
     "text": [
      "1\n",
      "3\n",
      "5\n",
      "7\n",
      "9\n"
     ]
    }
   ],
   "source": [
    "#while문을 이용해서 1부터 10까지 홀수만 출력하세요\n",
    "a = 0 \n",
    "while a<10:\n",
    "    a+=1\n",
    "    if a%2 ==0:\n",
    "        continue\n",
    "    print(a)"
   ]
  },
  {
   "cell_type": "code",
   "execution_count": 2,
   "metadata": {},
   "outputs": [
    {
     "name": "stdout",
     "output_type": "stream",
     "text": [
      "정수 입력:5\n",
      "정수 입력:100\n",
      "정수 입력:202\n",
      "정수 입력:4\n",
      "정수 입력:5\n",
      "정수 입력:99\n",
      "정수 입력:8\n",
      "정수 입력:7\n",
      "정수 입력:0\n",
      "[100, 202, 4, 8]\n",
      "[5, 5, 99, 7]\n"
     ]
    }
   ],
   "source": [
    "#입력되는 정수가 짝수면 리스트 even에 홀수면 리스트 odd에 추가하는 작업을 0이 입력될 때까지 반복하는 프로글매을 작성하십시오.\n",
    "#마지막에 입력된 0은 리스트에 추가하지 않습니다.\n",
    "#프로그램 마지막에 리스트 even과 odd를 출력합니다.\n",
    "\n",
    "even = []\n",
    "odd = []\n",
    "while 1:\n",
    "    value = int(input('정수 입력:'))\n",
    "    \n",
    "    if value == 0:\n",
    "        break\n",
    "        \n",
    "    if value%2 == 0:\n",
    "        even.append(value)\n",
    "    else:\n",
    "        odd.append(value)\n",
    "print(even)\n",
    "print(odd)\n",
    "\n",
    "        "
   ]
  },
  {
   "cell_type": "code",
   "execution_count": null,
   "metadata": {},
   "outputs": [],
   "source": []
  }
 ],
 "metadata": {
  "kernelspec": {
   "display_name": "Python 3",
   "language": "python",
   "name": "python3"
  },
  "language_info": {
   "codemirror_mode": {
    "name": "ipython",
    "version": 3
   },
   "file_extension": ".py",
   "mimetype": "text/x-python",
   "name": "python",
   "nbconvert_exporter": "python",
   "pygments_lexer": "ipython3",
   "version": "3.6.5"
  }
 },
 "nbformat": 4,
 "nbformat_minor": 2
}
