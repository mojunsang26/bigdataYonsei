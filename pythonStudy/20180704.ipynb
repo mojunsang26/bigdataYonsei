{
 "cells": [
  {
   "cell_type": "code",
   "execution_count": 1,
   "metadata": {},
   "outputs": [
    {
     "name": "stdout",
     "output_type": "stream",
     "text": [
      "2 4 6 8 10 12 14 16 18 20 \n",
      "22 24 26 28 30 32 34 36 38 40 \n",
      "42 44 46 48 50 "
     ]
    }
   ],
   "source": [
    "#50까지의 짝수 출력하세요\n",
    "count = 0\n",
    "for i in range(2,51,2):\n",
    "    print(i, end=\" \")\n",
    "    count +=1\n",
    "    if count%10 == 0:\n",
    "        print()"
   ]
  },
  {
   "cell_type": "code",
   "execution_count": 14,
   "metadata": {},
   "outputs": [
    {
     "name": "stdout",
     "output_type": "stream",
     "text": [
      "리스트 입력:[100,101,102,200,300]\n",
      "203\n"
     ]
    }
   ],
   "source": [
    "#정수들만을 포함한 리스트를 하나 입력받아\n",
    "#100보다 크고 200보다 작은 정수들만의 합을 구하여 출력하는\n",
    "#프로그램을 for 문을 사용하여 작성하십시오.\n",
    "\n",
    "mylist = eval(input('리스트 입력:'))\n",
    "\n",
    "sum1 = 0\n",
    "\n",
    "for a in mylist:\n",
    "    if 100<a<200:\n",
    "        sum1 += a\n",
    "\n",
    "print(sum1)"
   ]
  },
  {
   "cell_type": "code",
   "execution_count": 18,
   "metadata": {},
   "outputs": [
    {
     "name": "stdout",
     "output_type": "stream",
     "text": [
      "1 \n",
      "1 2 \n",
      "1 2 3 \n",
      "1 2 3 4 \n",
      "1 2 3 4 5 \n"
     ]
    }
   ],
   "source": [
    "#다음과 같이 숫자들을 출력하도록 프로그램을 작성하십시오.\n",
    "#for문을 사용하십시오.\n",
    "\n",
    "for i in range(1,6):\n",
    "    for j in range(1,i+1):\n",
    "        print(j,end=\" \")\n",
    "    print()"
   ]
  },
  {
   "cell_type": "code",
   "execution_count": 23,
   "metadata": {
    "scrolled": true
   },
   "outputs": [
    {
     "name": "stdout",
     "output_type": "stream",
     "text": [
      "[ kim kim ]\n",
      "[ park sung ]\n",
      "[ kim ]\n"
     ]
    }
   ],
   "source": [
    "#각 조에 속한 사람들의 성을 다음과 같이 리스트 변수 t에 보관하고 있습니다.\n",
    "#각 성이 리스트 ex에 포함되어 있는 경우를 제외한 나머지 성을 다음과 같이 출력하십시오.\n",
    "\n",
    "t = [['kim','lee','kim'],['park','cho','sung'],['kim','cho','lee','gang']]\n",
    "ex = ['lee','cho','gang']\n",
    "\n",
    "\n",
    "for i in t:\n",
    "    print(\"[\",end=\" \")\n",
    "    for j in i:\n",
    "        if j in ex:\n",
    "            continue\n",
    "        print(j,end = \" \")\n",
    "    print(']')"
   ]
  },
  {
   "cell_type": "code",
   "execution_count": 29,
   "metadata": {},
   "outputs": [
    {
     "name": "stdout",
     "output_type": "stream",
     "text": [
      "[3, 10, 999, 54, 267, 4915, 1, 130]\n"
     ]
    }
   ],
   "source": [
    "#양수만 추출해서 별도의 리스트에 보관한다.\n",
    "\n",
    "a = [3, 10, 999, -7, 54, 267, -6823, 0, 4915, 1, -82, 130]\n",
    "mylist = []\n",
    "for i in a:\n",
    "    if i > 0:\n",
    "        mylist.append(i)\n",
    "print(mylist)"
   ]
  },
  {
   "cell_type": "code",
   "execution_count": 33,
   "metadata": {},
   "outputs": [
    {
     "name": "stdout",
     "output_type": "stream",
     "text": [
      "4915\n"
     ]
    }
   ],
   "source": [
    "#가장 큰 원소를 출력해보자. (max함수 사용 불가)\n",
    "\n",
    "a = [3, 10, 999, -7, 54, 267, -6823, 0, 4915, 1, -82, 130]\n",
    "max_value = -99999\n",
    "for i in a:\n",
    "    if max_value < i:\n",
    "        max_value = i\n",
    "print(max_value)"
   ]
  },
  {
   "cell_type": "code",
   "execution_count": 5,
   "metadata": {},
   "outputs": [
    {
     "name": "stdout",
     "output_type": "stream",
     "text": [
      "1) 지출 항목 추가    2) 지출 항목 삭제    3) 지출 내역 보기    4) 총 지출 확인    그 외의 숫자) 프로그램 종료\n",
      "*****실행할 기능의 번호를 선택하세요:1\n",
      "추가할 지출 항목: 식비\n",
      "금액(정수): 250000\n",
      "1) 지출 항목 추가    2) 지출 항목 삭제    3) 지출 내역 보기    4) 총 지출 확인    그 외의 숫자) 프로그램 종료\n",
      "*****실행할 기능의 번호를 선택하세요:5\n"
     ]
    }
   ],
   "source": [
    "# 스크린샷 결과 화면을 참고하여, 지출 내역을 관리하는 프로그램을 작성하세요.\n",
    "# 1) 지출 항목 추가 : 새로운 지출 항목과 금액을 입력하여 추가합니다. 이미 존재하는 지출 항목인 경우, 새로 입력한 금액으로 값이 갱신됩니다.\n",
    "# 2) 지출 항목 삭제 : 이미 존재하는 지출 항목 내역을 삭제합니다. 존재하지 않는 지출 항목인 경우, 해당 안내 메시지를 출력합니다.\n",
    "# 3) 지출 내역 보기 : 현재까지 입력된 지출 항목과 금액을 화면에 출력합니다.\n",
    "# 4) 총 지출 확인 : 모든 지출 항목들의 총 금액의 합계를 화면에 출력합니다.\n",
    "\n",
    "\n",
    "paymentList = {}\n",
    "while 1:\n",
    "    print(\"1) 지출 항목 추가    2) 지출 항목 삭제    3) 지출 내역 보기    4) 총 지출 확인    그 외의 숫자) 프로그램 종료\")\n",
    "    fnum = int(input('*****실행할 기능의 번호를 선택하세요:'))\n",
    "    \n",
    "    if fnum ==1:\n",
    "        a = input('추가할 지출 항목: ')\n",
    "        b = int(input('금액(정수): '))\n",
    "        paymentList[a] = b\n",
    "    \n",
    "    elif fnum == 2:\n",
    "        value = input('삭제할 지출 항목:')\n",
    "        del paymentList[value]\n",
    "    elif fnum ==3:\n",
    "        print(paymentList)\n",
    "    elif fnum == 4:\n",
    "        s=0\n",
    "        for i in paymentList.values():\n",
    "            s += i\n",
    "        print(s)\n",
    "    else:\n",
    "        break"
   ]
  }
 ],
 "metadata": {
  "kernelspec": {
   "display_name": "Python 3",
   "language": "python",
   "name": "python3"
  },
  "language_info": {
   "codemirror_mode": {
    "name": "ipython",
    "version": 3
   },
   "file_extension": ".py",
   "mimetype": "text/x-python",
   "name": "python",
   "nbconvert_exporter": "python",
   "pygments_lexer": "ipython3",
   "version": "3.6.1"
  }
 },
 "nbformat": 4,
 "nbformat_minor": 2
}
