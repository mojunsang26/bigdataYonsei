{
 "cells": [
  {
   "cell_type": "code",
   "execution_count": 1,
   "metadata": {},
   "outputs": [
    {
     "name": "stdout",
     "output_type": "stream",
     "text": [
      "2 4 6 8 10 12 14 16 18 20 \n",
      "22 24 26 28 30 32 34 36 38 40 \n",
      "42 44 46 48 50 "
     ]
    }
   ],
   "source": [
    "#50까지의 짝수 출력하세요\n",
    "count = 0\n",
    "for i in range(2,51,2):\n",
    "    print(i, end=\" \")\n",
    "    count +=1\n",
    "    if count%10 == 0:\n",
    "        print()"
   ]
  },
  {
   "cell_type": "code",
   "execution_count": 14,
   "metadata": {},
   "outputs": [
    {
     "name": "stdout",
     "output_type": "stream",
     "text": [
      "리스트 입력:[100,101,102,200,300]\n",
      "203\n"
     ]
    }
   ],
   "source": [
    "#정수들만을 포함한 리스트를 하나 입력받아\n",
    "#100보다 크고 200보다 작은 정수들만의 합을 구하여 출력하는\n",
    "#프로그램을 for 문을 사용하여 작성하십시오.\n",
    "\n",
    "mylist = eval(input('리스트 입력:'))\n",
    "\n",
    "sum1 = 0\n",
    "\n",
    "for a in mylist:\n",
    "    if 100<a<200:\n",
    "        sum1 += a\n",
    "\n",
    "print(sum1)"
   ]
  },
  {
   "cell_type": "code",
   "execution_count": 18,
   "metadata": {},
   "outputs": [
    {
     "name": "stdout",
     "output_type": "stream",
     "text": [
      "1 \n",
      "1 2 \n",
      "1 2 3 \n",
      "1 2 3 4 \n",
      "1 2 3 4 5 \n"
     ]
    }
   ],
   "source": [
    "#다음과 같이 숫자들을 출력하도록 프로그램을 작성하십시오.\n",
    "#for문을 사용하십시오.\n",
    "\n",
    "for i in range(1,6):\n",
    "    for j in range(1,i+1):\n",
    "        print(j,end=\" \")\n",
    "    print()"
   ]
  },
  {
   "cell_type": "code",
   "execution_count": 20,
   "metadata": {},
   "outputs": [
    {
     "name": "stdout",
     "output_type": "stream",
     "text": [
      "[ kim kim ]\n",
      "[ park sung ]\n",
      "[ kim ]\n"
     ]
    }
   ],
   "source": [
    "#각 조에 속한 사람들의 성을 다음과 같이 리스트 변수 t에 보관하고 있습니다.\n",
    "#각 성이 리스트 ex에 포함되어 있는 경우를 제외한 나머지 성을 다음과 같이 출력하십시오.\n",
    "\n",
    "t = [['kim','lee','kim'],['park','cho','sung'],['kim','cho','lee','gang']]\n",
    "ex = ['lee','cho','gang']\n",
    "\n",
    "\n",
    "for i in t:\n",
    "    print(\"[\",end=\" \")\n",
    "    for j in i:\n",
    "        if j in ex:\n",
    "            continue\n",
    "        print(j,end = \" \")\n",
    "    print(']')"
   ]
  },
  {
   "cell_type": "code",
   "execution_count": null,
   "metadata": {
    "collapsed": true
   },
   "outputs": [],
   "source": []
  }
 ],
 "metadata": {
  "kernelspec": {
   "display_name": "Python 3",
   "language": "python",
   "name": "python3"
  },
  "language_info": {
   "codemirror_mode": {
    "name": "ipython",
    "version": 3
   },
   "file_extension": ".py",
   "mimetype": "text/x-python",
   "name": "python",
   "nbconvert_exporter": "python",
   "pygments_lexer": "ipython3",
   "version": "3.6.1"
  }
 },
 "nbformat": 4,
 "nbformat_minor": 2
}
