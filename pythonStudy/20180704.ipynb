{
 "cells": [
  {
   "cell_type": "code",
   "execution_count": 1,
   "metadata": {},
   "outputs": [
    {
     "name": "stdout",
     "output_type": "stream",
     "text": [
      "2 4 6 8 10 12 14 16 18 20 \n",
      "22 24 26 28 30 32 34 36 38 40 \n",
      "42 44 46 48 50 "
     ]
    }
   ],
   "source": [
    "#50까지의 짝수 출력하세요\n",
    "count = 0\n",
    "for i in range(2,51,2):\n",
    "    print(i, end=\" \")\n",
    "    count +=1\n",
    "    if count%10 == 0:\n",
    "        print()"
   ]
  },
  {
   "cell_type": "code",
   "execution_count": 14,
   "metadata": {},
   "outputs": [
    {
     "name": "stdout",
     "output_type": "stream",
     "text": [
      "리스트 입력:[100,101,102,200,300]\n",
      "203\n"
     ]
    }
   ],
   "source": [
    "#정수들만을 포함한 리스트를 하나 입력받아\n",
    "#100보다 크고 200보다 작은 정수들만의 합을 구하여 출력하는\n",
    "#프로그램을 for 문을 사용하여 작성하십시오.\n",
    "\n",
    "mylist = eval(input('리스트 입력:'))\n",
    "\n",
    "sum1 = 0\n",
    "\n",
    "for a in mylist:\n",
    "    if 100<a<200:\n",
    "        sum1 += a\n",
    "\n",
    "print(sum1)"
   ]
  },
  {
   "cell_type": "code",
   "execution_count": null,
   "metadata": {
    "collapsed": true
   },
   "outputs": [],
   "source": []
  }
 ],
 "metadata": {
  "kernelspec": {
   "display_name": "Python 3",
   "language": "python",
   "name": "python3"
  },
  "language_info": {
   "codemirror_mode": {
    "name": "ipython",
    "version": 3
   },
   "file_extension": ".py",
   "mimetype": "text/x-python",
   "name": "python",
   "nbconvert_exporter": "python",
   "pygments_lexer": "ipython3",
   "version": "3.6.1"
  }
 },
 "nbformat": 4,
 "nbformat_minor": 2
}
