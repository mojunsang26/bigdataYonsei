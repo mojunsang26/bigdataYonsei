{
 "cells": [
  {
   "cell_type": "code",
   "execution_count": 5,
   "metadata": {},
   "outputs": [
    {
     "name": "stdout",
     "output_type": "stream",
     "text": [
      "주민등록번호 입력:930227-1188239\n",
      "Year : 93\n",
      "Month : 02\n",
      "Day : 27\n",
      "Gender : Male\n"
     ]
    }
   ],
   "source": [
    "# 주민등록번호를 입력받아서 아래와 같이 출력하는 프로그램을 작성하세요.\n",
    "# 주민등록번호의 8번째 자리의 숫자가 1 또는 3이면 Male, 2 또는 4인 경우에는 Female, 그 외의 경우에는 Unknown으로 표기합니다.\n",
    "# (사용자가 주민등록번호 저체 14자리 형식에 맞게 입력한다고 가정합니다.)\n",
    "\n",
    "myid = input('주민등록번호 입력:')\n",
    "print('Year : '+myid[:2])\n",
    "print('Month : '+myid[2:4])\n",
    "print('Day : '+myid[4:6])\n",
    "if int(myid[7]) in [1,3]:\n",
    "    print('Gender : Male')\n",
    "elif int(myid[7]) in [2,4]:\n",
    "    print('Gender : Female')\n",
    "else:\n",
    "    print('Gender : Unknown')"
   ]
  },
  {
   "cell_type": "code",
   "execution_count": 10,
   "metadata": {},
   "outputs": [
    {
     "name": "stdout",
     "output_type": "stream",
     "text": [
      "[1, 5, 'GOOD MORNING! HOW ARE YOU?', 'good morning! how are you']\n"
     ]
    }
   ],
   "source": [
    "#다음의 문자열에 대한 아래 구문들의 실행 결과는 무엇입니까?\n",
    "\n",
    "s='good morning! how are you?'\n",
    "\n",
    "print([s.find('o'),\n",
    "s.count('o'),\n",
    "s.upper(),\n",
    "s.strip('?')])"
   ]
  },
  {
   "cell_type": "code",
   "execution_count": 11,
   "metadata": {},
   "outputs": [
    {
     "data": {
      "text/plain": [
       "'a:b:c:d'"
      ]
     },
     "execution_count": 11,
     "metadata": {},
     "output_type": "execute_result"
    }
   ],
   "source": [
    "#문자열 s에 대해서 replace 함수를 사용하여 아래와 같이 문자열을 변경하는 구문을 쓰시오.\n",
    "s = 'a:b:c:d'\n",
    "s.replace(':',',')\n"
   ]
  },
  {
   "cell_type": "code",
   "execution_count": 21,
   "metadata": {},
   "outputs": [
    {
     "data": {
      "text/plain": [
       "'a,b,c,d'"
      ]
     },
     "execution_count": 21,
     "metadata": {},
     "output_type": "execute_result"
    }
   ],
   "source": [
    "#문자열 s에 대해서 replace 함수를 사용하지 않고 아래와 같이 문자열을 변경하는 구문을 쓰세요.\n",
    "\n",
    "s = 'a:b:c:d'\n",
    "s = s.split(':')\n",
    "','.join(s)"
   ]
  },
  {
   "cell_type": "code",
   "execution_count": 31,
   "metadata": {},
   "outputs": [
    {
     "name": "stdout",
     "output_type": "stream",
     "text": [
      "이름 입력:ㅇㅣㅅㅜㄴㅅㅣㄴ\n",
      "점수 입력(실수):84.6\n",
      "*ㅇㅣㅅㅜㄴㅅㅣㄴ**님은  84.60을 받았습니다.\n",
      "합격입니다!\n"
     ]
    }
   ],
   "source": [
    "#학생의 이름과 점수를 입력받아서 아래와 같이 60점 이상이면 합격, 60점 미만이면 불합격 메세지를 출력하는 프로그램을 작성하세요.\n",
    "#(점수는 100점 만점이고 사용자가 만점을 넘는 점수를 입력하지 않는다고 가정합니다.)\n",
    "\n",
    "name = input('이름 입력:')\n",
    "score = float(input('점수 입력(실수):'))\n",
    "\n",
    "print('{0:*^11}님은 {1:6.2f}을 받았습니다.'.format(name,score))\n",
    "if score>=60:\n",
    "    print('합격입니다!')\n",
    "else :\n",
    "    print('불합격하였습니다. {0:6.2f}점이 부족합니다'.format(60-score))"
   ]
  },
  {
   "cell_type": "code",
   "execution_count": 32,
   "metadata": {},
   "outputs": [
    {
     "name": "stdout",
     "output_type": "stream",
     "text": [
      "7\n"
     ]
    }
   ],
   "source": [
    "def plus(a,b):\n",
    "    return a+b\n",
    "\n",
    "print(plus(3,4))"
   ]
  },
  {
   "cell_type": "code",
   "execution_count": null,
   "metadata": {
    "collapsed": true
   },
   "outputs": [],
   "source": []
  }
 ],
 "metadata": {
  "kernelspec": {
   "display_name": "Python 3",
   "language": "python",
   "name": "python3"
  },
  "language_info": {
   "codemirror_mode": {
    "name": "ipython",
    "version": 3
   },
   "file_extension": ".py",
   "mimetype": "text/x-python",
   "name": "python",
   "nbconvert_exporter": "python",
   "pygments_lexer": "ipython3",
   "version": "3.6.1"
  }
 },
 "nbformat": 4,
 "nbformat_minor": 2
}
