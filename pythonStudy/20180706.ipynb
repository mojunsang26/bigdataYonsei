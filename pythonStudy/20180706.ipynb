{
 "cells": [
  {
   "cell_type": "code",
   "execution_count": 2,
   "metadata": {},
   "outputs": [
    {
     "name": "stdout",
     "output_type": "stream",
     "text": [
      "정수 입력:4\n",
      "False\n"
     ]
    }
   ],
   "source": [
    "#정수 인자의 값이 홀수이면 True, 아니면 False를 return하는 함수 odd(x)를 정의하십시오.\n",
    "#if 문을 사용하지 않습니다.\n",
    "\n",
    "#정수 값을 입력받아 x에 저장하고,\n",
    "#odd 함수를 호출하여 반환값을 출력하는 문장도 작성합니다.\n",
    "\n",
    "\n",
    "def odd(x):\n",
    "    return x%2==1\n",
    "\n",
    "x = int(input('정수 입력:'))\n",
    "print(odd(x))"
   ]
  },
  {
   "cell_type": "code",
   "execution_count": null,
   "metadata": {},
   "outputs": [],
   "source": [
    "#함수 mod(m, n)을 다음과 같이 정의합니다.\n",
    "#매개변수 m과 n에 전달된 값이 모두 양의 정수일 때, m을 n으로 나눈 나머지 값을 반환합니다.\n",
    "#양의 정수가 아닌 경우, \"매개 변수는 모두 양의 정수이어야 합니다.\"라고 출력합니다.\n",
    "\n",
    "\n",
    "def mod(m, n):\n",
    "    if m>0 and n>0 and type(m)==int and type(n) :\n",
    "        return m%n\n",
    "    else:\n",
    "        print('매개변수는 모두 양의 정수이어야 합니다.')\n",
    "\n",
    "m = eval(input('m:'))\n",
    "n = eval(input('n:'))\n",
    "print(mod(m,n))"
   ]
  },
  {
   "cell_type": "code",
   "execution_count": 2,
   "metadata": {},
   "outputs": [
    {
     "name": "stdout",
     "output_type": "stream",
     "text": [
      "(-5.2, 100)\n",
      "(-100, 100)\n",
      "(3, 3)\n"
     ]
    }
   ],
   "source": [
    "#숫자들을 여러개 인자로 받았을 때, 이 중 가장 작은 값과 가장 큰 값을 반환하는 함수 min_max를 정의하십시오.\n",
    "\n",
    "def min_max(*param):\n",
    "    return min(param),max(param)\n",
    "\n",
    "print(min_max(9,-1,100,3.2,-5.2,0))\n",
    "print(min_max(100,-100,0,1,2,3,4,5,-99))\n",
    "print(min_max(3))\n"
   ]
  },
  {
   "cell_type": "code",
   "execution_count": 36,
   "metadata": {},
   "outputs": [
    {
     "name": "stdout",
     "output_type": "stream",
     "text": [
      "------------------------------\n",
      "Fruit Name     Vitamin C Content\n",
      "------------------------------\n",
      "citron         105\n",
      "strawberry     94\n",
      "quince         81\n",
      "lemon          70\n",
      "tangerine      39\n",
      "------------------------------\n",
      "총 함유량: 389\n",
      "------------------------------\n",
      "Fruit Name     Vitamin C Content\n",
      "------------------------------\n",
      "orange         43\n",
      "kiwi           27\n",
      "cherryTomato   21\n",
      "apple          4\n",
      "------------------------------\n",
      "총 함유량: 95\n"
     ]
    }
   ],
   "source": [
    "#과일의 비타민 함유량을 다음과 같이 전달하는 함수 vitamin_c는 각 과일 이름과 함유량을\n",
    "#인자로 받아 dict로 저장하고, 이름과 함유량을 출력예와 같이 출력한 후, 총 함유량을 반환한다.\n",
    "#이와 같은 함수 vitamin_c를 정의한다.\n",
    "\n",
    "def vitamin_c(**param):\n",
    "    print('-'*30)\n",
    "    print('{0:15}{1}'.format('Fruit Name','Vitamin C Content'))\n",
    "    print('-'*30)\n",
    "    s = 0\n",
    "    for i in param.items():\n",
    "        s += i[1]\n",
    "        print('{0:15}{1}'.format(i[0],i[1]))\n",
    "    print('-'*30)\n",
    "    return s\n",
    "    \n",
    "print(\"총 함유량:\",vitamin_c(citron=105,strawberry=94,quince=81,lemon=70,tangerine=39))\n",
    "print(\"총 함유량:\",vitamin_c(orange=43, kiwi=27, cherryTomato=21, apple=4))\n"
   ]
  },
  {
   "cell_type": "code",
   "execution_count": null,
   "metadata": {
    "collapsed": true
   },
   "outputs": [],
   "source": []
  }
 ],
 "metadata": {
  "kernelspec": {
   "display_name": "Python 3",
   "language": "python",
   "name": "python3"
  },
  "language_info": {
   "codemirror_mode": {
    "name": "ipython",
    "version": 3
   },
   "file_extension": ".py",
   "mimetype": "text/x-python",
   "name": "python",
   "nbconvert_exporter": "python",
   "pygments_lexer": "ipython3",
   "version": "3.6.1"
  }
 },
 "nbformat": 4,
 "nbformat_minor": 2
}
