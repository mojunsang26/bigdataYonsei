{
 "cells": [
  {
   "cell_type": "code",
   "execution_count": 8,
   "metadata": {},
   "outputs": [
    {
     "name": "stdout",
     "output_type": "stream",
     "text": [
      "[  0.87493126 -26.79078617]\n"
     ]
    }
   ],
   "source": [
    "import numpy as np\n",
    "\n",
    "x = [[32,64,96,118,126,144,152.5,158], [1,1,1,1,1,1,1,1]]\n",
    "y = [18,24,61.5,49,52,105,130.3,125]\n",
    "\n",
    "A = np.array(x, order='C').T\n",
    "B = np.array(y)\n",
    "\n",
    "A_inv = np.dot(np.linalg.inv(np.dot(A.T, A)), A.T)\n",
    "ab = np.dot(A_inv, B)\n",
    "\n",
    "print(ab)"
   ]
  },
  {
   "cell_type": "code",
   "execution_count": 9,
   "metadata": {},
   "outputs": [
    {
     "data": {
      "text/plain": [
       "array([[ 32. ,   1. ],\n",
       "       [ 64. ,   1. ],\n",
       "       [ 96. ,   1. ],\n",
       "       [118. ,   1. ],\n",
       "       [126. ,   1. ],\n",
       "       [144. ,   1. ],\n",
       "       [152.5,   1. ],\n",
       "       [158. ,   1. ]])"
      ]
     },
     "execution_count": 9,
     "metadata": {},
     "output_type": "execute_result"
    }
   ],
   "source": [
    "A"
   ]
  },
  {
   "cell_type": "code",
   "execution_count": null,
   "metadata": {
    "collapsed": true
   },
   "outputs": [],
   "source": []
  }
 ],
 "metadata": {
  "kernelspec": {
   "display_name": "Python 3",
   "language": "python",
   "name": "python3"
  },
  "language_info": {
   "codemirror_mode": {
    "name": "ipython",
    "version": 3
   },
   "file_extension": ".py",
   "mimetype": "text/x-python",
   "name": "python",
   "nbconvert_exporter": "python",
   "pygments_lexer": "ipython3",
   "version": "3.6.6"
  }
 },
 "nbformat": 4,
 "nbformat_minor": 2
}
