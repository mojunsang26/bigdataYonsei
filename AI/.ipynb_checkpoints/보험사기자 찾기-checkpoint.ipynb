{
 "cells": [
  {
   "cell_type": "code",
   "execution_count": 1,
   "metadata": {},
   "outputs": [
    {
     "name": "stderr",
     "output_type": "stream",
     "text": [
      "C:\\ProgramData\\Anaconda3\\lib\\site-packages\\h5py\\__init__.py:36: FutureWarning: Conversion of the second argument of issubdtype from `float` to `np.floating` is deprecated. In future, it will be treated as `np.float64 == np.dtype(float).type`.\n",
      "  from ._conv import register_converters as _register_converters\n"
     ]
    }
   ],
   "source": [
    "# define library & load data set\n",
    "import tensorflow as tf\n",
    "import numpy as np\n",
    "import pandas as pd"
   ]
  },
  {
   "cell_type": "code",
   "execution_count": 2,
   "metadata": {
    "collapsed": true
   },
   "outputs": [],
   "source": [
    "def get_one_hot(targets, nb_classes):\n",
    "    res = np.eye(nb_classes)[np.array(targets).reshape(-1)]\n",
    "    return res.reshape(list(targets.shape)+[nb_classes])"
   ]
  },
  {
   "cell_type": "code",
   "execution_count": 3,
   "metadata": {
    "collapsed": true
   },
   "outputs": [],
   "source": [
    "train_data = pd.read_csv(\"~/Data/data_cust_2-3_train.csv\")\n",
    "train_x = train_data.iloc[:, 2:]\n",
    "train_y = get_one_hot(train_data.iloc[:, 1], 2)"
   ]
  },
  {
   "cell_type": "code",
   "execution_count": 4,
   "metadata": {
    "collapsed": true
   },
   "outputs": [],
   "source": [
    "#print(train_x)"
   ]
  },
  {
   "cell_type": "code",
   "execution_count": 5,
   "metadata": {},
   "outputs": [
    {
     "name": "stdout",
     "output_type": "stream",
     "text": [
      "[[1. 0.]\n",
      " [1. 0.]\n",
      " [1. 0.]\n",
      " [1. 0.]\n",
      " [0. 1.]\n",
      " [1. 0.]\n",
      " [1. 0.]\n",
      " [0. 1.]\n",
      " [1. 0.]\n",
      " [1. 0.]]\n"
     ]
    }
   ],
   "source": [
    "print(train_y[0:10])"
   ]
  },
  {
   "cell_type": "code",
   "execution_count": 6,
   "metadata": {},
   "outputs": [
    {
     "data": {
      "text/plain": [
       "32"
      ]
     },
     "execution_count": 6,
     "metadata": {},
     "output_type": "execute_result"
    }
   ],
   "source": [
    "len(train_x.columns)"
   ]
  },
  {
   "cell_type": "code",
   "execution_count": 7,
   "metadata": {
    "collapsed": true
   },
   "outputs": [],
   "source": [
    "# define data & label\n",
    "x = tf.placeholder(tf.float32, [None, len(train_x.columns)])\n",
    "y = tf.placeholder(tf.float32, [None, 2])"
   ]
  },
  {
   "cell_type": "code",
   "execution_count": 8,
   "metadata": {
    "collapsed": true
   },
   "outputs": [],
   "source": [
    "# define Weight & Bias\n",
    "W = tf.Variable(tf.zeros([len(train_x.columns), 2]))\n",
    "b = tf.Variable(tf.zeros([2]))"
   ]
  },
  {
   "cell_type": "code",
   "execution_count": 9,
   "metadata": {
    "collapsed": true
   },
   "outputs": [],
   "source": [
    "# define output\n",
    "# activation function is softmax\n",
    "h = tf.nn.softmax(tf.matmul(x, W)+b)"
   ]
  },
  {
   "cell_type": "code",
   "execution_count": 10,
   "metadata": {
    "collapsed": true
   },
   "outputs": [],
   "source": [
    "# define Cross Entropy function\n",
    "cross_entropy = -tf.reduce_sum(y * tf.log(h), reduction_indices=[1])"
   ]
  },
  {
   "cell_type": "code",
   "execution_count": 11,
   "metadata": {
    "collapsed": true
   },
   "outputs": [],
   "source": [
    "# define loss function\n",
    "loss = tf.reduce_mean(cross_entropy)"
   ]
  },
  {
   "cell_type": "code",
   "execution_count": 12,
   "metadata": {
    "collapsed": true
   },
   "outputs": [],
   "source": [
    "# define train step, use gradient descent, set running rate ....\n",
    "train = tf.train.GradientDescentOptimizer(0.000001).minimize(loss)"
   ]
  },
  {
   "cell_type": "code",
   "execution_count": 13,
   "metadata": {
    "collapsed": true
   },
   "outputs": [],
   "source": [
    "# initialize variable\n",
    "init = tf.global_variables_initializer()\n",
    " \n",
    "# start session\n",
    "sess = tf.Session()\n",
    "sess.run(init)"
   ]
  },
  {
   "cell_type": "code",
   "execution_count": 14,
   "metadata": {},
   "outputs": [
    {
     "name": "stdout",
     "output_type": "stream",
     "text": [
      "Step 0:, 0.69313\n",
      "Step 10000:, 0.55549\n",
      "Step 20000:, 0.89194\n",
      "Step 30000:, 0.37986\n",
      "Step 40000:, 0.37036\n",
      "Step 50000:, 0.64454\n",
      "Step 60000:, 0.31606\n",
      "Step 70000:, 1.26960\n",
      "Step 80000:, 0.54921\n",
      "Step 90000:, 0.35296\n",
      "Step 100000:, 0.32688\n",
      "Step 110000:, 0.32944\n",
      "Step 120000:, 0.29680\n",
      "Step 130000:, 0.73389\n",
      "Step 140000:, 0.35615\n",
      "Step 150000:, 0.41808\n",
      "Step 160000:, 0.29689\n",
      "Step 170000:, 1.13395\n",
      "Step 180000:, 0.70918\n",
      "Step 190000:, 0.66909\n",
      "Step 200000:, 0.63850\n",
      "Step 210000:, 0.34974\n",
      "Step 220000:, 0.58757\n",
      "Step 230000:, 0.27248\n",
      "Step 240000:, 0.95767\n",
      "Step 250000:, 0.56735\n",
      "Step 260000:, 0.34552\n",
      "Step 270000:, 0.94084\n",
      "Step 280000:, 0.26898\n",
      "Step 290000:, 0.27844\n",
      "Step 300000:, 0.33939\n",
      "Step 310000:, 0.48425\n",
      "Step 320000:, 0.36714\n",
      "Step 330000:, 0.42578\n",
      "Step 340000:, 0.75227\n",
      "Step 350000:, 0.30941\n",
      "Step 360000:, 0.29499\n",
      "Step 370000:, 0.41518\n",
      "Step 380000:, 0.60332\n",
      "Step 390000:, 0.33745\n",
      "Step 400000:, 0.32788\n",
      "Step 410000:, 0.28165\n",
      "Step 420000:, 0.35149\n",
      "Step 430000:, 0.33619\n",
      "Step 440000:, 0.45924\n",
      "Step 450000:, 0.43765\n",
      "Step 460000:, 0.26245\n",
      "Step 470000:, 0.27885\n",
      "Step 480000:, 0.39525\n",
      "Step 490000:, 0.36619\n",
      "Step 500000:, 0.85406\n",
      "Step 510000:, 0.25529\n",
      "Step 520000:, 0.43248\n",
      "Step 530000:, 0.25067\n",
      "Step 540000:, 0.24889\n",
      "Step 550000:, 0.30379\n",
      "Step 560000:, 0.29890\n",
      "Step 570000:, 0.26641\n",
      "Step 580000:, 0.40465\n",
      "Step 590000:, 0.35158\n",
      "Step 600000:, 0.27201\n",
      "Step 610000:, 0.39688\n",
      "Step 620000:, 0.27809\n",
      "Step 630000:, 0.26541\n",
      "Step 640000:, 0.25174\n",
      "Step 650000:, 0.32824\n",
      "Step 660000:, 0.47466\n",
      "Step 670000:, 0.26173\n",
      "Step 680000:, 0.29787\n",
      "Step 690000:, 0.73616\n",
      "Step 700000:, 0.24686\n",
      "Step 710000:, 0.36045\n",
      "Step 720000:, 0.31894\n",
      "Step 730000:, 0.25287\n",
      "Step 740000:, 0.35697\n",
      "Step 750000:, 0.47309\n",
      "Step 760000:, 0.29318\n",
      "Step 770000:, 0.42238\n",
      "Step 780000:, 0.25668\n",
      "Step 790000:, 0.32417\n",
      "Step 800000:, 0.46133\n",
      "Step 810000:, 0.24730\n",
      "Step 820000:, 0.27492\n",
      "Step 830000:, 0.29578\n",
      "Step 840000:, 0.24136\n",
      "Step 850000:, 0.30991\n",
      "Step 860000:, 0.31830\n",
      "Step 870000:, 0.24248\n",
      "Step 880000:, 0.31023\n",
      "Step 890000:, 0.55670\n",
      "Step 900000:, 0.27962\n",
      "Step 910000:, 0.24073\n",
      "Step 920000:, 0.33527\n",
      "Step 930000:, 0.28845\n",
      "Step 940000:, 0.58865\n",
      "Step 950000:, 0.58601\n",
      "Step 960000:, 0.25575\n",
      "Step 970000:, 0.29152\n",
      "Step 980000:, 0.31244\n",
      "Step 990000:, 0.24727\n",
      "Step 1000000:, 0.23895\n"
     ]
    }
   ],
   "source": [
    "#Training\n",
    "for i in range(1000001):\n",
    "    _, loss_value = sess.run([train, loss], feed_dict={x: train_x, y: train_y})\n",
    "    if i % 10000 == 0:\n",
    "        print('Step %d, %.5f' % (i, loss_value))"
   ]
  },
  {
   "cell_type": "code",
   "execution_count": 15,
   "metadata": {
    "collapsed": true
   },
   "outputs": [],
   "source": [
    "test_data = pd.read_csv(\"~/Data/data_cust_2-3_test.csv\")\n",
    "test_x = test_data.iloc[:, 2:]\n",
    "test_y = get_one_hot(test_data.iloc[:, 1], 2)"
   ]
  },
  {
   "cell_type": "code",
   "execution_count": 16,
   "metadata": {},
   "outputs": [
    {
     "name": "stdout",
     "output_type": "stream",
     "text": [
      "0.9201035\n"
     ]
    }
   ],
   "source": [
    "# model assess with Accuracy\n",
    "correct_prediction = tf.equal(tf.argmax(h, 1), tf.argmax(y, 1))\n",
    "accuracy = tf.reduce_mean(tf.cast(correct_prediction, tf.float32))\n",
    "print(sess.run(accuracy, feed_dict={x: test_x, y:test_y}))"
   ]
  },
  {
   "cell_type": "code",
   "execution_count": 17,
   "metadata": {
    "scrolled": false
   },
   "outputs": [
    {
     "name": "stdout",
     "output_type": "stream",
     "text": [
      "[[0.99633634 0.00366365]\n",
      " [0.9836314  0.0163686 ]\n",
      " [0.98371685 0.01628313]\n",
      " [0.044753   0.9552469 ]\n",
      " [0.9929975  0.00700242]\n",
      " [0.9597382  0.04026179]\n",
      " [0.9583156  0.04168436]\n",
      " [0.95734465 0.04265536]\n",
      " [0.32915077 0.67084914]\n",
      " [0.7380569  0.26194307]]\n"
     ]
    }
   ],
   "source": [
    "print(sess.run(h, feed_dict={x:test_x, y:test_y})[0:10])"
   ]
  },
  {
   "cell_type": "code",
   "execution_count": 18,
   "metadata": {
    "collapsed": true
   },
   "outputs": [],
   "source": [
    "predict_y = sess.run(tf.argmax(h, 1), feed_dict={x:test_x, y:test_y})"
   ]
  },
  {
   "cell_type": "code",
   "execution_count": 19,
   "metadata": {},
   "outputs": [
    {
     "name": "stdout",
     "output_type": "stream",
     "text": [
      "[0 0 0 1 0 0 0 0 1 0 0 0 0 1 0 0 0 0 0 0]\n"
     ]
    }
   ],
   "source": [
    "print(predict_y[0:20])"
   ]
  },
  {
   "cell_type": "code",
   "execution_count": 20,
   "metadata": {},
   "outputs": [
    {
     "name": "stdout",
     "output_type": "stream",
     "text": [
      "[0 0 0 0 0 1 0 0 1 0 0 0 0 0 0 0 0 0 1 0]\n"
     ]
    }
   ],
   "source": [
    "print(test_y.argmax(axis=1)[0:20])"
   ]
  },
  {
   "cell_type": "code",
   "execution_count": 21,
   "metadata": {},
   "outputs": [
    {
     "name": "stdout",
     "output_type": "stream",
     "text": [
      "col_0     0    1   All\n",
      "row_0                 \n",
      "0      5526  115  5641\n",
      "1       379  163   542\n",
      "All    5905  278  6183\n"
     ]
    }
   ],
   "source": [
    "cross_tab = pd.crosstab(test_y.argmax(axis=1), predict_y, margins=True)\n",
    "print(cross_tab)"
   ]
  },
  {
   "cell_type": "code",
   "execution_count": 22,
   "metadata": {},
   "outputs": [
    {
     "name": "stdout",
     "output_type": "stream",
     "text": [
      "379\n"
     ]
    }
   ],
   "source": [
    "print(cross_tab[0][1])"
   ]
  },
  {
   "cell_type": "code",
   "execution_count": 23,
   "metadata": {},
   "outputs": [
    {
     "name": "stdout",
     "output_type": "stream",
     "text": [
      "0.5863309352517986\n"
     ]
    }
   ],
   "source": [
    "precision = cross_tab[1][1]/(cross_tab[1][0] + cross_tab[1][1])\n",
    "print(precision)"
   ]
  },
  {
   "cell_type": "code",
   "execution_count": 24,
   "metadata": {},
   "outputs": [
    {
     "name": "stdout",
     "output_type": "stream",
     "text": [
      "0.3007380073800738\n"
     ]
    }
   ],
   "source": [
    "recall = cross_tab[1][1]/(cross_tab[0][1] + cross_tab[1][1])\n",
    "print(recall)"
   ]
  },
  {
   "cell_type": "code",
   "execution_count": 25,
   "metadata": {},
   "outputs": [
    {
     "name": "stdout",
     "output_type": "stream",
     "text": [
      "0.3975609756097561\n"
     ]
    }
   ],
   "source": [
    "f_measure = (2*precision*recall) / (precision + recall)\n",
    "print(f_measure)"
   ]
  },
  {
   "cell_type": "code",
   "execution_count": null,
   "metadata": {
    "collapsed": true
   },
   "outputs": [],
   "source": []
  }
 ],
 "metadata": {
  "kernelspec": {
   "display_name": "Python 3",
   "language": "python",
   "name": "python3"
  },
  "language_info": {
   "codemirror_mode": {
    "name": "ipython",
    "version": 3
   },
   "file_extension": ".py",
   "mimetype": "text/x-python",
   "name": "python",
   "nbconvert_exporter": "python",
   "pygments_lexer": "ipython3",
   "version": "3.6.6"
  }
 },
 "nbformat": 4,
 "nbformat_minor": 2
}
