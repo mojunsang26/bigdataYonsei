{
 "cells": [
  {
   "cell_type": "code",
   "execution_count": 1,
   "metadata": {},
   "outputs": [],
   "source": [
    "# Dependencies\n",
    "import tensorflow as tf\n",
    "import pandas as pd\n",
    "import numpy as np"
   ]
  },
  {
   "cell_type": "code",
   "execution_count": 2,
   "metadata": {},
   "outputs": [],
   "source": [
    "# Make results reproducible\n",
    "#seed = 1235\n",
    "#np.random.seed(seed)\n",
    "#tf.set_random_seed(seed)"
   ]
  },
  {
   "cell_type": "code",
   "execution_count": 3,
   "metadata": {},
   "outputs": [],
   "source": [
    "#Loading the dataset\n",
    "X = np.load('male_array_1.npy')\n",
    "data_Y = np.load('male_array_2.npy')\n",
    "#X = X[:300000]\n",
    "#data_Y = data_Y[:300000]\n",
    "data_Y = pd.DataFrame(data_Y)\n",
    "data_Y.columns = ['혈당', '수축기혈압', '이완기혈압', '총콜레스테롤','HDL콜레스테롤', 'LDL콜레스테롤', '혈색소', '요단백']\n",
    "#Y = pd.get_dummies(data_Y['혈당'])\n",
    "#y = np.array(Y)\n"
   ]
  },
  {
   "cell_type": "code",
   "execution_count": 4,
   "metadata": {},
   "outputs": [],
   "source": [
    "label = '혈당'\n",
    "\n",
    "X = pd.DataFrame(X)\n",
    "y = data_Y[label]"
   ]
  },
  {
   "cell_type": "code",
   "execution_count": 5,
   "metadata": {},
   "outputs": [
    {
     "data": {
      "text/plain": [
       "array([[1, 0, 0],\n",
       "       [1, 0, 0],\n",
       "       [1, 0, 0],\n",
       "       ...,\n",
       "       [0, 0, 1],\n",
       "       [0, 0, 1],\n",
       "       [0, 0, 1]], dtype=uint8)"
      ]
     },
     "execution_count": 5,
     "metadata": {},
     "output_type": "execute_result"
    }
   ],
   "source": [
    "\n",
    "X[label] = y\n",
    "n = len(X[X[label] == 3])\n",
    "temp = pd.concat([X[X[label] == 1][:n], X[X[label] == 2][:n], X[X[label] == 3][:n]], axis = 0)\n",
    "y = pd.get_dummies(temp[label])\n",
    "y = np.array(y)\n",
    "X = np.array(temp[[0,1,2,3,4]])\n",
    "y"
   ]
  },
  {
   "cell_type": "code",
   "execution_count": 6,
   "metadata": {},
   "outputs": [
    {
     "data": {
      "text/plain": [
       "array([[10.        , 10.94408733, 10.44055703, 10.13198481,  3.        ],\n",
       "       [12.        , 10.94408733, 10.00639853, 10.02204825,  2.        ],\n",
       "       [ 9.        , 10.19802596,  8.70392301,  7.7133806 ,  1.        ],\n",
       "       ...,\n",
       "       [14.        , 10.94408733, 10.87471553, 10.90154069,  2.        ],\n",
       "       [ 9.        , 10.19802596, 10.87471553, 10.57173103,  3.        ],\n",
       "       [16.        , 10.19802596,  8.70392301,  8.37299993,  1.        ]])"
      ]
     },
     "execution_count": 6,
     "metadata": {},
     "output_type": "execute_result"
    }
   ],
   "source": [
    "X"
   ]
  },
  {
   "cell_type": "code",
   "execution_count": 7,
   "metadata": {},
   "outputs": [],
   "source": [
    "# Creating a Train and a Test Dataset\n",
    "from sklearn.model_selection import train_test_split\n",
    "X_train, X_test, y_train, y_test = train_test_split(X, y, test_size = 0.25)"
   ]
  },
  {
   "cell_type": "code",
   "execution_count": 8,
   "metadata": {},
   "outputs": [],
   "source": [
    "# Session\n",
    "sess = tf.Session()"
   ]
  },
  {
   "cell_type": "code",
   "execution_count": 9,
   "metadata": {},
   "outputs": [],
   "source": [
    "# Interval / Epochs\n",
    "interval = 100\n",
    "epoch = 1000"
   ]
  },
  {
   "cell_type": "code",
   "execution_count": 10,
   "metadata": {},
   "outputs": [],
   "source": [
    "# Initialize placeholders\n",
    "X_data = tf.placeholder(shape=[None, 5], dtype=tf.float32)\n",
    "y_target = tf.placeholder(shape=[None, 3], dtype=tf.float32)"
   ]
  },
  {
   "cell_type": "code",
   "execution_count": 11,
   "metadata": {},
   "outputs": [],
   "source": [
    "input_layer_nodes = 5\n",
    "hidden_layer_nodes1 = 30\n",
    "hidden_layer_nodes2 = 30\n",
    "hidden_layer_nodes3 = 30\n",
    "output_layer_nodes =  3\n"
   ]
  },
  {
   "cell_type": "code",
   "execution_count": 12,
   "metadata": {},
   "outputs": [
    {
     "name": "stderr",
     "output_type": "stream",
     "text": [
      "Using TensorFlow backend.\n"
     ]
    }
   ],
   "source": [
    "import keras\n",
    "\n",
    "keep_prob = tf.placeholder(\"float\")\n",
    "\n",
    "\n",
    "w1 = tf.get_variable(\"w1\", shape=[input_layer_nodes, hidden_layer_nodes1], initializer=tf.keras.initializers.he_normal())\n",
    "b1 = tf.Variable(tf.random_normal(shape=[hidden_layer_nodes1]))   # First Bias\n",
    "\n",
    "\n",
    "w2 = tf.get_variable(\"w2\", shape=[hidden_layer_nodes1, hidden_layer_nodes2], initializer=tf.keras.initializers.he_normal())\n",
    "b2 = tf.Variable(tf.random_normal(shape=[hidden_layer_nodes2]))   # Second Bias\n",
    "\n",
    "\n",
    "w3 = tf.get_variable(\"w3\", shape=[hidden_layer_nodes2, hidden_layer_nodes3], initializer=tf.keras.initializers.he_normal())\n",
    "b3 = tf.Variable(tf.random_normal(shape=[hidden_layer_nodes3]))\n",
    "\n",
    "\n",
    "w4 = tf.get_variable(\"w4\", shape=[hidden_layer_nodes3, output_layer_nodes], initializer=tf.keras.initializers.he_normal())\n",
    "b4 = tf.Variable(tf.random_normal(shape=[output_layer_nodes]))\n",
    "\n",
    "\n",
    "\n",
    "\n",
    "\n",
    "\n",
    "\n",
    "\n"
   ]
  },
  {
   "cell_type": "code",
   "execution_count": 13,
   "metadata": {},
   "outputs": [],
   "source": [
    "# Operations\n",
    "hidden_output1 = tf.nn.relu(tf.add(tf.matmul(X_data, w1), b1))\n",
    "hidden_output1 = tf.nn.dropout(hidden_output1, keep_prob = keep_prob)\n",
    "\n",
    "hidden_output2 = tf.nn.relu(tf.add(tf.matmul(hidden_output1, w2), b2))\n",
    "hidden_output2 = tf.nn.dropout(hidden_output2, keep_prob = keep_prob)\n",
    "\n",
    "hidden_output3 = tf.nn.relu(tf.add(tf.matmul(hidden_output2, w3), b3))\n",
    "hidden_output3 = tf.nn.dropout(hidden_output3, keep_prob = keep_prob)\n",
    "\n",
    "logits = tf.add(tf.matmul(hidden_output3, w4), b4)\n",
    "final_output = tf.nn.softmax(logits)\n"
   ]
  },
  {
   "cell_type": "code",
   "execution_count": 14,
   "metadata": {},
   "outputs": [],
   "source": [
    "# Cost Function\n",
    "#loss = tf.reduce_mean(-tf.reduce_sum(y_target * tf.log(final_output), axis=0))\n",
    "##\n",
    "##\n",
    "loss = tf.reduce_mean(tf.nn.softmax_cross_entropy_with_logits_v2(logits=logits, labels=y_target))"
   ]
  },
  {
   "cell_type": "code",
   "execution_count": 15,
   "metadata": {},
   "outputs": [],
   "source": [
    "# Optimizer\n",
    "#optimizer = tf.train.GradientDescentOptimizer(learning_rate=0.1).minimize(loss)\n",
    "optimizer = tf.train.AdamOptimizer(learning_rate=0.01).minimize(loss)"
   ]
  },
  {
   "cell_type": "code",
   "execution_count": 16,
   "metadata": {},
   "outputs": [],
   "source": [
    "# Initialize variables\n",
    "init = tf.global_variables_initializer()\n",
    "sess.run(init)"
   ]
  },
  {
   "cell_type": "code",
   "execution_count": 17,
   "metadata": {
    "scrolled": true
   },
   "outputs": [
    {
     "name": "stdout",
     "output_type": "stream",
     "text": [
      "Training the model...\n",
      "('Epoch', 100, '|', 'Loss:', 1.0976014)\n",
      "('Epoch', 200, '|', 'Loss:', 1.0824106)\n",
      "('Epoch', 300, '|', 'Loss:', 1.0712715)\n",
      "('Epoch', 400, '|', 'Loss:', 1.06629)\n",
      "('Epoch', 500, '|', 'Loss:', 1.0613753)\n",
      "('Epoch', 600, '|', 'Loss:', 1.057451)\n",
      "('Epoch', 700, '|', 'Loss:', 1.0550553)\n",
      "('Epoch', 800, '|', 'Loss:', 1.0534912)\n",
      "('Epoch', 900, '|', 'Loss:', 1.0519862)\n",
      "('Epoch', 1000, '|', 'Loss:', 1.0487475)\n"
     ]
    }
   ],
   "source": [
    "# Training\n",
    "print('Training the model...')\n",
    "for i in range(1, (epoch + 1)):\n",
    "    sess.run(optimizer, feed_dict={X_data: X_train, y_target: y_train, keep_prob : 0.5})\n",
    "    if i % interval == 0:\n",
    "        print('Epoch', i, '|', 'Loss:', sess.run(loss, feed_dict={X_data: X_train, y_target: y_train, keep_prob : 0.5}))\n"
   ]
  },
  {
   "cell_type": "code",
   "execution_count": 18,
   "metadata": {},
   "outputs": [],
   "source": [
    "# Prediction\n",
    "#print()\n",
    "#for i in range(len(X_test)):\n",
    "#    print('Actual:', y_test[i], 'Predicted:', (sess.run(final_output, feed_dict={X_data: [X_test[i]], keep_prob : 1.0})))"
   ]
  },
  {
   "cell_type": "code",
   "execution_count": 32,
   "metadata": {},
   "outputs": [
    {
     "name": "stdout",
     "output_type": "stream",
     "text": [
      "('accuracy : ', 0.4600779235032651, 'accuracy2 : ', 0.42734096222468315)\n"
     ]
    }
   ],
   "source": [
    "count = 0\n",
    "count2 = 0\n",
    "count3 = 0\n",
    "pred = []\n",
    "for i in range(len(X_test)):\n",
    "    if np.argmax(y_test[i]) in [1,2,3]:\n",
    "        count3 += 1\n",
    "    if np.argmax(y_test[i]) == np.argmax(sess.run(final_output, feed_dict={X_data: [X_test[i]], keep_prob:1.0})):\n",
    "        count+=1\n",
    "        if np.argmax(y_test[i]) in [1,2,3]:\n",
    "            count2 += 1\n",
    "    pred.append(np.argmax(sess.run(final_output, feed_dict={X_data: [X_test[i]], keep_prob:1.0})))\n",
    "print('accuracy : ', float(count)/len(X_test), 'accuracy2 : ',float(count2)/count3)"
   ]
  },
  {
   "cell_type": "code",
   "execution_count": null,
   "metadata": {},
   "outputs": [],
   "source": [
    "pred2 = pd.get_dummies(pred)\n",
    "pred2 = np.array(pred2)"
   ]
  },
  {
   "cell_type": "code",
   "execution_count": 36,
   "metadata": {},
   "outputs": [
    {
     "name": "stdout",
     "output_type": "stream",
     "text": [
      "             precision    recall  f1-score   support\n",
      "\n",
      "          0       0.52      0.53      0.52     12065\n",
      "          1       0.36      0.03      0.06     12211\n",
      "          2       0.43      0.82      0.57     12170\n",
      "\n",
      "avg / total       0.44      0.46      0.38     36446\n",
      "\n"
     ]
    }
   ],
   "source": [
    "from sklearn.metrics import classification_report\n",
    "print(classification_report(y_test, pred2))"
   ]
  },
  {
   "cell_type": "code",
   "execution_count": null,
   "metadata": {},
   "outputs": [],
   "source": []
  }
 ],
 "metadata": {
  "kernelspec": {
   "display_name": "Python 2",
   "language": "python",
   "name": "python2"
  },
  "language_info": {
   "codemirror_mode": {
    "name": "ipython",
    "version": 2
   },
   "file_extension": ".py",
   "mimetype": "text/x-python",
   "name": "python",
   "nbconvert_exporter": "python",
   "pygments_lexer": "ipython2",
   "version": "2.7.13"
  }
 },
 "nbformat": 4,
 "nbformat_minor": 1
}
