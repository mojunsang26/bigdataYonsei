{
 "cells": [
  {
   "cell_type": "code",
   "execution_count": 1,
   "metadata": {
    "collapsed": true
   },
   "outputs": [],
   "source": [
    "import pandas as pd\n",
    "from pandas import Series, DataFrame\n",
    "import numpy as np\n",
    "import matplotlib\n",
    "matplotlib.rcParams['font.family'].insert(0, 'Malgun Gothic') \n",
    "%matplotlib inline"
   ]
  },
  {
   "cell_type": "markdown",
   "metadata": {},
   "source": [
    "# 1. openAPI 활용 및 json 데이터 읽기\n",
    "## API : Application Programming Interface\n",
    "## 서울시 데이터 포털에서 공공 API 활용하기\n",
    "### 서울시 동별 인구통계\n",
    "### http://data.seoul.go.kr/dataList/datasetView.do?infId=10043&srvType=S&serviceKind=2&currentPageNo=1"
   ]
  },
  {
   "cell_type": "code",
   "execution_count": 2,
   "metadata": {
    "collapsed": true
   },
   "outputs": [],
   "source": [
    "import requests"
   ]
  },
  {
   "cell_type": "code",
   "execution_count": 3,
   "metadata": {},
   "outputs": [
    {
     "name": "stdout",
     "output_type": "stream",
     "text": [
      "http://openapi.seoul.go.kr:8088/sample/json/octastatapi10043/1/5\n"
     ]
    }
   ],
   "source": [
    "url = 'http://openapi.seoul.go.kr:8088'\n",
    "api_key = 'sample' #개인인증키 발급받은 후, 입력\n",
    "return_format = 'json'\n",
    "service_id = 'octastatapi10043'\n",
    "start_idx = 1\n",
    "end_idx = 5\n",
    "\n",
    "request_url = '/'.join([url, api_key, return_format, service_id, str(start_idx), str(end_idx)])\n",
    "print(request_url)\n",
    "# 'http://openapi.seoul.go.kr:8088/sample/json/octastatapi10043/1/500/' \n"
   ]
  },
  {
   "cell_type": "code",
   "execution_count": 4,
   "metadata": {
    "collapsed": true
   },
   "outputs": [],
   "source": [
    "response = requests.get(request_url)"
   ]
  },
  {
   "cell_type": "code",
   "execution_count": 5,
   "metadata": {},
   "outputs": [
    {
     "data": {
      "text/plain": [
       "'{\"octastatapi10043\":{\"list_total_count\":450,\"RESULT\":{\"CODE\":\"INFO-000\",\"MESSAGE\":\"정상 처리되었습니다\"},\"row\":[{\"GIGAN\":\"2016\",\"JACHIGU\":\"합계\",\"DONG\":\"합계\",\"SEDAE\":\"4189839\",\"GYE_1\":\"10204057\",\"NAMJA_1\":\"5007379\",\"YEOJA_1\":\"5196678\",\"GYE_2\":\"9930616\",\"NAMJA_2\":\"4876789\",\"YEOJA_2\":\"5053827\",\"GYE_3\":\"273441\",\"NAMJA_3\":\"130590\",\"YEOJA_3\":\"142851\",\"SEDAEDANGINGU\":\"2.37\",\"N_65SEISANGGORYEONGJA\":\"1300877\"},{\"GIGAN\":\"2016\",\"JACHIGU\":\"종로구\",\"DONG\":\"소계\",\"SEDAE\":\"72118\",\"GYE_1\":\"161922\",\"NAMJA_1\":\"79322\",\"YEOJA_1\":\"82600\",\"GYE_2\":\"152737\",\"NAMJA_2\":\"75201\",\"YEOJA_2\":\"77536\",\"GYE_3\":\"9185\",\"NAMJA_3\":\"4121\",\"YEOJA_3\":\"5064\",\"SEDAEDANGINGU\":\"2.12\",\"N_65SEISANGGORYEONGJA\":\"25091\"},{\"GIGAN\":\"2016\",\"JACHIGU\":\"종로구\",\"DONG\":\"사직동\",\"SEDAE\":\"4399\",\"GYE_1\":\"10013\",\"NAMJA_1\":\"4605\",\"YEOJA_1\":\"5408\",\"GYE_2\":\"9695\",\"NAMJA_2\":\"4429\",\"YEOJA_2\":\"5266\",\"GYE_3\":\"318\",\"NAMJA_3\":\"176\",\"YEOJA_3\":\"142\",\"SEDAEDANGINGU\":\"2.20\",\"N_65SEISANGGORYEONGJA\":\"1707\"},{\"GIGAN\":\"2016\",\"JACHIGU\":\"종로구\",\"DONG\":\"삼청동\",\"SEDAE\":\"1403\",\"GYE_1\":\"3118\",\"NAMJA_1\":\"1491\",\"YEOJA_1\":\"1627\",\"GYE_2\":\"2903\",\"NAMJA_2\":\"1377\",\"YEOJA_2\":\"1526\",\"GYE_3\":\"215\",\"NAMJA_3\":\"114\",\"YEOJA_3\":\"101\",\"SEDAEDANGINGU\":\"2.07\",\"N_65SEISANGGORYEONGJA\":\"624\"},{\"GIGAN\":\"2016\",\"JACHIGU\":\"종로구\",\"DONG\":\"부암동\",\"SEDAE\":\"4371\",\"GYE_1\":\"11044\",\"NAMJA_1\":\"5349\",\"YEOJA_1\":\"5695\",\"GYE_2\":\"10616\",\"NAMJA_2\":\"5160\",\"YEOJA_2\":\"5456\",\"GYE_3\":\"428\",\"NAMJA_3\":\"189\",\"YEOJA_3\":\"239\",\"SEDAEDANGINGU\":\"2.43\",\"N_65SEISANGGORYEONGJA\":\"1723\"}]}}'"
      ]
     },
     "execution_count": 5,
     "metadata": {},
     "output_type": "execute_result"
    }
   ],
   "source": [
    "response.text\n",
    "#JSON 형태"
   ]
  },
  {
   "cell_type": "markdown",
   "metadata": {},
   "source": [
    "### json (Java Script Object Notation)\n",
    "\n",
    "### 1) json 설명: https://ko.wikipedia.org/wiki/JSON\n",
    "### 2) json online editor: https://jsoneditoronline.org/"
   ]
  },
  {
   "cell_type": "code",
   "execution_count": 6,
   "metadata": {
    "collapsed": true
   },
   "outputs": [],
   "source": [
    "sample = ' { \\\n",
    "    \"이름\": \"김지아\", \\\n",
    "    \"나이\": 25, \\\n",
    "    \"성별\": \"여\", \\\n",
    "    \"주소\": \"서울특별시 양천구 목동\",\\\n",
    "    \"특기\": [\"농구\", \"도술\"],\\\n",
    "    \"가족관계\": {\"#\": 2, \"아버지\": \"홍판서\", \"어머니\": \"춘섬\"},\\\n",
    "    \"회사\": \"경기 수원시 팔달구 우만동\"\\\n",
    " }'"
   ]
  },
  {
   "cell_type": "code",
   "execution_count": 7,
   "metadata": {
    "collapsed": true
   },
   "outputs": [],
   "source": [
    "import json"
   ]
  },
  {
   "cell_type": "code",
   "execution_count": 8,
   "metadata": {
    "collapsed": true
   },
   "outputs": [],
   "source": [
    "jsonsample = json.loads(sample)"
   ]
  },
  {
   "cell_type": "code",
   "execution_count": 9,
   "metadata": {},
   "outputs": [
    {
     "data": {
      "text/plain": [
       "'홍판서'"
      ]
     },
     "execution_count": 9,
     "metadata": {},
     "output_type": "execute_result"
    }
   ],
   "source": [
    "# json의 특정 항목에 접근\n",
    "jsonsample['가족관계']['아버지']"
   ]
  },
  {
   "cell_type": "code",
   "execution_count": 10,
   "metadata": {
    "collapsed": true
   },
   "outputs": [],
   "source": [
    "#API 결과를 json 포맷으로 변환\n",
    "jsondata = response.json()"
   ]
  },
  {
   "cell_type": "code",
   "execution_count": 11,
   "metadata": {},
   "outputs": [
    {
     "data": {
      "text/html": [
       "<div>\n",
       "<style scoped>\n",
       "    .dataframe tbody tr th:only-of-type {\n",
       "        vertical-align: middle;\n",
       "    }\n",
       "\n",
       "    .dataframe tbody tr th {\n",
       "        vertical-align: top;\n",
       "    }\n",
       "\n",
       "    .dataframe thead th {\n",
       "        text-align: right;\n",
       "    }\n",
       "</style>\n",
       "<table border=\"1\" class=\"dataframe\">\n",
       "  <thead>\n",
       "    <tr style=\"text-align: right;\">\n",
       "      <th></th>\n",
       "      <th>DONG</th>\n",
       "      <th>GIGAN</th>\n",
       "      <th>GYE_1</th>\n",
       "      <th>GYE_2</th>\n",
       "      <th>GYE_3</th>\n",
       "      <th>JACHIGU</th>\n",
       "      <th>NAMJA_1</th>\n",
       "      <th>NAMJA_2</th>\n",
       "      <th>NAMJA_3</th>\n",
       "      <th>N_65SEISANGGORYEONGJA</th>\n",
       "      <th>SEDAE</th>\n",
       "      <th>SEDAEDANGINGU</th>\n",
       "      <th>YEOJA_1</th>\n",
       "      <th>YEOJA_2</th>\n",
       "      <th>YEOJA_3</th>\n",
       "    </tr>\n",
       "  </thead>\n",
       "  <tbody>\n",
       "    <tr>\n",
       "      <th>0</th>\n",
       "      <td>합계</td>\n",
       "      <td>2016</td>\n",
       "      <td>10204057</td>\n",
       "      <td>9930616</td>\n",
       "      <td>273441</td>\n",
       "      <td>합계</td>\n",
       "      <td>5007379</td>\n",
       "      <td>4876789</td>\n",
       "      <td>130590</td>\n",
       "      <td>1300877</td>\n",
       "      <td>4189839</td>\n",
       "      <td>2.37</td>\n",
       "      <td>5196678</td>\n",
       "      <td>5053827</td>\n",
       "      <td>142851</td>\n",
       "    </tr>\n",
       "    <tr>\n",
       "      <th>1</th>\n",
       "      <td>소계</td>\n",
       "      <td>2016</td>\n",
       "      <td>161922</td>\n",
       "      <td>152737</td>\n",
       "      <td>9185</td>\n",
       "      <td>종로구</td>\n",
       "      <td>79322</td>\n",
       "      <td>75201</td>\n",
       "      <td>4121</td>\n",
       "      <td>25091</td>\n",
       "      <td>72118</td>\n",
       "      <td>2.12</td>\n",
       "      <td>82600</td>\n",
       "      <td>77536</td>\n",
       "      <td>5064</td>\n",
       "    </tr>\n",
       "    <tr>\n",
       "      <th>2</th>\n",
       "      <td>사직동</td>\n",
       "      <td>2016</td>\n",
       "      <td>10013</td>\n",
       "      <td>9695</td>\n",
       "      <td>318</td>\n",
       "      <td>종로구</td>\n",
       "      <td>4605</td>\n",
       "      <td>4429</td>\n",
       "      <td>176</td>\n",
       "      <td>1707</td>\n",
       "      <td>4399</td>\n",
       "      <td>2.20</td>\n",
       "      <td>5408</td>\n",
       "      <td>5266</td>\n",
       "      <td>142</td>\n",
       "    </tr>\n",
       "    <tr>\n",
       "      <th>3</th>\n",
       "      <td>삼청동</td>\n",
       "      <td>2016</td>\n",
       "      <td>3118</td>\n",
       "      <td>2903</td>\n",
       "      <td>215</td>\n",
       "      <td>종로구</td>\n",
       "      <td>1491</td>\n",
       "      <td>1377</td>\n",
       "      <td>114</td>\n",
       "      <td>624</td>\n",
       "      <td>1403</td>\n",
       "      <td>2.07</td>\n",
       "      <td>1627</td>\n",
       "      <td>1526</td>\n",
       "      <td>101</td>\n",
       "    </tr>\n",
       "    <tr>\n",
       "      <th>4</th>\n",
       "      <td>부암동</td>\n",
       "      <td>2016</td>\n",
       "      <td>11044</td>\n",
       "      <td>10616</td>\n",
       "      <td>428</td>\n",
       "      <td>종로구</td>\n",
       "      <td>5349</td>\n",
       "      <td>5160</td>\n",
       "      <td>189</td>\n",
       "      <td>1723</td>\n",
       "      <td>4371</td>\n",
       "      <td>2.43</td>\n",
       "      <td>5695</td>\n",
       "      <td>5456</td>\n",
       "      <td>239</td>\n",
       "    </tr>\n",
       "  </tbody>\n",
       "</table>\n",
       "</div>"
      ],
      "text/plain": [
       "  DONG GIGAN     GYE_1    GYE_2   GYE_3 JACHIGU  NAMJA_1  NAMJA_2 NAMJA_3  \\\n",
       "0   합계  2016  10204057  9930616  273441      합계  5007379  4876789  130590   \n",
       "1   소계  2016    161922   152737    9185     종로구    79322    75201    4121   \n",
       "2  사직동  2016     10013     9695     318     종로구     4605     4429     176   \n",
       "3  삼청동  2016      3118     2903     215     종로구     1491     1377     114   \n",
       "4  부암동  2016     11044    10616     428     종로구     5349     5160     189   \n",
       "\n",
       "  N_65SEISANGGORYEONGJA    SEDAE SEDAEDANGINGU  YEOJA_1  YEOJA_2 YEOJA_3  \n",
       "0               1300877  4189839          2.37  5196678  5053827  142851  \n",
       "1                 25091    72118          2.12    82600    77536    5064  \n",
       "2                  1707     4399          2.20     5408     5266     142  \n",
       "3                   624     1403          2.07     1627     1526     101  \n",
       "4                  1723     4371          2.43     5695     5456     239  "
      ]
     },
     "execution_count": 11,
     "metadata": {},
     "output_type": "execute_result"
    }
   ],
   "source": [
    "jsondata = jsondata['octastatapi10043']['row']\n",
    "동별인구통계 = DataFrame(jsondata)\n",
    "동별인구통계"
   ]
  },
  {
   "cell_type": "markdown",
   "metadata": {},
   "source": [
    "# 2. folium 을 활용한 지도 시각화"
   ]
  },
  {
   "cell_type": "code",
   "execution_count": 12,
   "metadata": {},
   "outputs": [
    {
     "ename": "ModuleNotFoundError",
     "evalue": "No module named 'folium'",
     "output_type": "error",
     "traceback": [
      "\u001b[1;31m---------------------------------------------------------------------------\u001b[0m",
      "\u001b[1;31mModuleNotFoundError\u001b[0m                       Traceback (most recent call last)",
      "\u001b[1;32m<ipython-input-12-1a9f8b0247b2>\u001b[0m in \u001b[0;36m<module>\u001b[1;34m()\u001b[0m\n\u001b[0;32m      1\u001b[0m \u001b[1;31m#folium 라이브러리 설치\u001b[0m\u001b[1;33m\u001b[0m\u001b[1;33m\u001b[0m\u001b[0m\n\u001b[0;32m      2\u001b[0m \u001b[1;31m# anaconda prompt에서 'pip install folium' 실행\u001b[0m\u001b[1;33m\u001b[0m\u001b[1;33m\u001b[0m\u001b[0m\n\u001b[1;32m----> 3\u001b[1;33m \u001b[1;32mimport\u001b[0m \u001b[0mfolium\u001b[0m\u001b[1;33m\u001b[0m\u001b[0m\n\u001b[0m",
      "\u001b[1;31mModuleNotFoundError\u001b[0m: No module named 'folium'"
     ]
    }
   ],
   "source": [
    "#folium 라이브러리 설치\n",
    "# anaconda prompt에서 'pip install folium' 실행\n",
    "import folium"
   ]
  },
  {
   "cell_type": "code",
   "execution_count": null,
   "metadata": {
    "collapsed": true
   },
   "outputs": [],
   "source": [
    "map1 = folium.Map(location = [37.566535, 126.97796919999996], zoom_start = 15)\n",
    "map1\n",
    "# 서울시청을 지도의 중심으로, 지도를 그려줌. \n",
    "# zoom_start는 지도를 그릴 때 얼마나 zoom 해서 보여줄 지를 결정.  값이 클수록, zoom in"
   ]
  },
  {
   "cell_type": "code",
   "execution_count": null,
   "metadata": {
    "collapsed": true
   },
   "outputs": [],
   "source": [
    "# Marker 추가하기 (지도에 지점 추가하기)\n",
    "folium.Marker([37, 126], popup = '테스트지점').add_to(map1)"
   ]
  },
  {
   "cell_type": "code",
   "execution_count": null,
   "metadata": {
    "collapsed": true
   },
   "outputs": [],
   "source": [
    "map1"
   ]
  },
  {
   "cell_type": "code",
   "execution_count": null,
   "metadata": {
    "collapsed": true
   },
   "outputs": [],
   "source": [
    "측정위치 = pd.read_excel('data/서울시유동인구/4_유동인구_조사지점정보_2015.xlsx', \n",
    "                      skiprows = [0,1,3])\n",
    "측정위치.head()"
   ]
  },
  {
   "cell_type": "code",
   "execution_count": null,
   "metadata": {
    "collapsed": true
   },
   "outputs": [],
   "source": [
    "측정위치50 = 측정위치[['조사지점명', 'X좌표', 'Y좌표']].iloc[:50]\n",
    "측정위치50\n",
    "# 50개의 측정 위치에 대해 필요한 정보만 저장"
   ]
  },
  {
   "cell_type": "code",
   "execution_count": null,
   "metadata": {
    "collapsed": true
   },
   "outputs": [],
   "source": [
    "# 위치 정보 변환을 위한 라이브러리 설치\n",
    "# pip install pyproj\n",
    "#conda install pyproj\n",
    "from pyproj import Proj, transform"
   ]
  },
  {
   "cell_type": "code",
   "execution_count": null,
   "metadata": {
    "collapsed": true
   },
   "outputs": [],
   "source": [
    "# X좌표, Y좌표를 위도와 경도로 변환하는 함수 선언\n",
    "def convert(x,y):\n",
    "    inProj = Proj(init = 'epsg:5181')\n",
    "    outProj = Proj(init = 'epsg:4326')\n",
    "    x2,y2 = transform(inProj, outProj, x, y)\n",
    "    return [y2, x2]"
   ]
  },
  {
   "cell_type": "code",
   "execution_count": null,
   "metadata": {
    "collapsed": true
   },
   "outputs": [],
   "source": [
    "#측정위치50에 위도와 경도 정보를 추가\n",
    "측정위치50['위경도'] = 측정위치50.apply(lambda 지점: convert(지점['X좌표'], 지점['Y좌표']), axis = 1)\n",
    "측정위치50.head(3)"
   ]
  },
  {
   "cell_type": "code",
   "execution_count": null,
   "metadata": {
    "collapsed": true
   },
   "outputs": [],
   "source": [
    "#측정위치 50개를 지도에 표시\n",
    "for row in 측정위치50.iterrows():\n",
    "    folium.Marker(row[1]['위경도'], popup = row[1]['조사지점명']).add_to(map1)"
   ]
  },
  {
   "cell_type": "code",
   "execution_count": null,
   "metadata": {
    "collapsed": true,
    "scrolled": true
   },
   "outputs": [],
   "source": [
    "map1"
   ]
  },
  {
   "cell_type": "markdown",
   "metadata": {},
   "source": [
    "# 3. 서울시 유동인구 분석"
   ]
  },
  {
   "cell_type": "markdown",
   "metadata": {},
   "source": [
    "## 데이터 적재"
   ]
  },
  {
   "cell_type": "code",
   "execution_count": null,
   "metadata": {
    "collapsed": true
   },
   "outputs": [],
   "source": [
    "유동인구 = pd.read_excel('data/서울시유동인구/0_유동인구_유동인구기본_2015.xlsx', \n",
    "                      skiprows = [0,1,3])"
   ]
  },
  {
   "cell_type": "code",
   "execution_count": null,
   "metadata": {
    "collapsed": true
   },
   "outputs": [],
   "source": [
    "data = pd.read_excel('data/서울시유동인구/4_유동인구_조사지점정보_2015.xlsx', \n",
    "                     sheetname = None, skiprows = [0,1,3])"
   ]
  },
  {
   "cell_type": "code",
   "execution_count": null,
   "metadata": {
    "collapsed": true
   },
   "outputs": [],
   "source": [
    "data.keys()"
   ]
  },
  {
   "cell_type": "code",
   "execution_count": null,
   "metadata": {
    "collapsed": true
   },
   "outputs": [],
   "source": [
    "조사지점 = data.get('유동인구_조사지점정보_2015')\n",
    "구코드 = data.get('GU_CD')\n",
    "동코드 = data.get('DONG_CD')\n",
    "집계구코드 = data.get('SM_GU_CD')"
   ]
  },
  {
   "cell_type": "code",
   "execution_count": null,
   "metadata": {
    "collapsed": true,
    "scrolled": true
   },
   "outputs": [],
   "source": [
    "유동인구.head(1)"
   ]
  },
  {
   "cell_type": "code",
   "execution_count": null,
   "metadata": {
    "collapsed": true
   },
   "outputs": [],
   "source": [
    "집계구코드.head(1)"
   ]
  },
  {
   "cell_type": "code",
   "execution_count": null,
   "metadata": {
    "collapsed": true
   },
   "outputs": [],
   "source": [
    "유동인구 = pd.merge(유동인구, 조사지점[['조사지점코드', '조사지점명', '구코드', '동코드', 'X좌표', 'Y좌표', '집계구코드']])"
   ]
  },
  {
   "cell_type": "code",
   "execution_count": null,
   "metadata": {
    "collapsed": true
   },
   "outputs": [],
   "source": [
    "유동인구 = pd.merge(유동인구, 구코드[['구코드', '구명']])"
   ]
  },
  {
   "cell_type": "code",
   "execution_count": null,
   "metadata": {
    "collapsed": true
   },
   "outputs": [],
   "source": [
    "유동인구 = pd.merge(유동인구, 동코드[['동코드', '동명']])"
   ]
  },
  {
   "cell_type": "markdown",
   "metadata": {},
   "source": [
    "## 미션 1. 유동인구를 요일과 시간대 별로 분석하여, 유동인구가 가장 많은 상위 10개의 요일과 시간대를 출력. (e.g., 금요일 18시-19시가 유동인구가 가장 많음.)\n"
   ]
  },
  {
   "cell_type": "code",
   "execution_count": null,
   "metadata": {
    "collapsed": true
   },
   "outputs": [],
   "source": [
    "유동인구.pivot_table(index = ['조사요일', '시간대'], values = '유동인구수', aggfunc = 'sum') \\\n",
    "                    .sort_values(by = '유동인구수', ascending = False).head(10)"
   ]
  },
  {
   "cell_type": "markdown",
   "metadata": {},
   "source": [
    "## 미션 2\t. 서울시 각 구별 전체 유동인구 분석"
   ]
  },
  {
   "cell_type": "code",
   "execution_count": null,
   "metadata": {
    "collapsed": true,
    "scrolled": true
   },
   "outputs": [],
   "source": [
    "유동인구.head(1)"
   ]
  },
  {
   "cell_type": "code",
   "execution_count": null,
   "metadata": {
    "collapsed": true
   },
   "outputs": [],
   "source": [
    "구별유동인구 = 유동인구.pivot_table(index = '구명', values = '유동인구수', aggfunc = 'sum')"
   ]
  },
  {
   "cell_type": "code",
   "execution_count": null,
   "metadata": {
    "collapsed": true,
    "scrolled": true
   },
   "outputs": [],
   "source": [
    "구별유동인구.plot(kind = 'barh')"
   ]
  },
  {
   "cell_type": "markdown",
   "metadata": {},
   "source": [
    "## 미션 3. 서울시 각 구별로 출퇴근 시간의 유동인구 분석 (출퇴근 시간은 6시-10시, 18시-21시로 가정함)\n"
   ]
  },
  {
   "cell_type": "code",
   "execution_count": null,
   "metadata": {
    "collapsed": true
   },
   "outputs": [],
   "source": [
    "유동인구.head(1)"
   ]
  },
  {
   "cell_type": "code",
   "execution_count": null,
   "metadata": {
    "collapsed": true
   },
   "outputs": [],
   "source": [
    "구별시간대별유동인구 = 유동인구.pivot_table(index = ['구명', '시간대'], values = '유동인구수', aggfunc = 'sum')"
   ]
  },
  {
   "cell_type": "code",
   "execution_count": null,
   "metadata": {
    "collapsed": true
   },
   "outputs": [],
   "source": [
    "출퇴근시간대 = list(np.unique(유동인구['시간대'])[0:3]) + list(np.unique(유동인구['시간대'])[-3:])"
   ]
  },
  {
   "cell_type": "code",
   "execution_count": null,
   "metadata": {
    "collapsed": true
   },
   "outputs": [],
   "source": [
    "출퇴근시간대구별유동인구 = 구별시간대별유동인구[구별시간대별유동인구.index.get_level_values('시간대').isin(출퇴근시간대)]"
   ]
  },
  {
   "cell_type": "code",
   "execution_count": null,
   "metadata": {
    "collapsed": true
   },
   "outputs": [],
   "source": [
    "출퇴근시간대구별유동인구 = 출퇴근시간대구별유동인구.unstack()"
   ]
  },
  {
   "cell_type": "code",
   "execution_count": null,
   "metadata": {
    "collapsed": true
   },
   "outputs": [],
   "source": [
    "출퇴근시간대구별유동인구"
   ]
  },
  {
   "cell_type": "code",
   "execution_count": null,
   "metadata": {
    "collapsed": true,
    "scrolled": true
   },
   "outputs": [],
   "source": [
    "출퇴근시간대구별유동인구.plot(kind = 'barh', stacked = True, figsize = (10,10))"
   ]
  },
  {
   "cell_type": "markdown",
   "metadata": {},
   "source": [
    "## 미션 4. 평일 유동인구와 주말 유동인구를 분석하여, 그 차이가 가장 많이 나는 상위 5개 구 정보를 출력\n"
   ]
  },
  {
   "cell_type": "code",
   "execution_count": null,
   "metadata": {
    "collapsed": true,
    "scrolled": true
   },
   "outputs": [],
   "source": [
    "요일별구별유동인구 = 유동인구.pivot_table(index = '구명', columns = '조사요일', values = '유동인구수', aggfunc = 'sum')\n",
    "요일별구별유동인구"
   ]
  },
  {
   "cell_type": "code",
   "execution_count": null,
   "metadata": {
    "collapsed": true,
    "scrolled": true
   },
   "outputs": [],
   "source": [
    "요일별구별유동인구['주중'] = (요일별구별유동인구['월'] + 요일별구별유동인구['화'] + \n",
    "                         요일별구별유동인구['수']+요일별구별유동인구['목']+요일별구별유동인구['금'])/5"
   ]
  },
  {
   "cell_type": "code",
   "execution_count": null,
   "metadata": {
    "collapsed": true
   },
   "outputs": [],
   "source": [
    "요일별구별유동인구['주말'] = 요일별구별유동인구['토']"
   ]
  },
  {
   "cell_type": "code",
   "execution_count": null,
   "metadata": {
    "collapsed": true
   },
   "outputs": [],
   "source": [
    "요일별구별유동인구['주중주말편차'] = (요일별구별유동인구['주중']-요일별구별유동인구['주말']).abs()"
   ]
  },
  {
   "cell_type": "code",
   "execution_count": null,
   "metadata": {
    "collapsed": true
   },
   "outputs": [],
   "source": [
    "요일별구별유동인구 = 요일별구별유동인구[['주중','주말', '주중주말편차']]"
   ]
  },
  {
   "cell_type": "code",
   "execution_count": null,
   "metadata": {
    "collapsed": true
   },
   "outputs": [],
   "source": [
    "요일별구별유동인구.sort_values(by = '주중주말편차', ascending= False)"
   ]
  },
  {
   "cell_type": "code",
   "execution_count": null,
   "metadata": {
    "collapsed": true
   },
   "outputs": [],
   "source": [
    "요일별구별유동인구.plot(kind = 'barh', figsize = (10,10))"
   ]
  },
  {
   "cell_type": "markdown",
   "metadata": {},
   "source": [
    "## 미션 5. 유동인구의 수와 보행환경 정보를 분석하여, 보행 환경 개선이 시급한 곳 10군데를 선정. (보행환경 정보는 유동인구상세로그_2015.xlsx의 보행환경 컬럼 참고. 매우불만족(1), 약간불만족(2), 보통(3), 약간만족(4), 매우만족(5) )\n"
   ]
  },
  {
   "cell_type": "code",
   "execution_count": null,
   "metadata": {
    "collapsed": true
   },
   "outputs": [],
   "source": [
    "유동인구_속성조사 = pd.read_excel('data/서울시유동인구/2_유동인구_속성조사_2015.xlsx', \n",
    "                      skiprows = [0,1,3])"
   ]
  },
  {
   "cell_type": "code",
   "execution_count": null,
   "metadata": {
    "collapsed": true
   },
   "outputs": [],
   "source": [
    "def 보행환경(만족도):\n",
    "    if 만족도 == '매우만족':\n",
    "        return 5\n",
    "    elif 만족도 == '약간만족':\n",
    "        return 4\n",
    "    elif 만족도 == '보통':\n",
    "        return 3\n",
    "    elif 만족도 == '약간불만족':\n",
    "        return 2\n",
    "    elif 만족도 == '매우불만족':\n",
    "        return 1\n",
    "    else:\n",
    "        return 0"
   ]
  },
  {
   "cell_type": "code",
   "execution_count": null,
   "metadata": {
    "collapsed": true
   },
   "outputs": [],
   "source": [
    "유동인구_속성조사['보행점수'] = 유동인구_속성조사.보행환경.apply(보행환경)"
   ]
  },
  {
   "cell_type": "code",
   "execution_count": null,
   "metadata": {
    "collapsed": true
   },
   "outputs": [],
   "source": [
    "지점별유동인구 = 유동인구.pivot_table(index = '조사지점코드', values = '유동인구수', aggfunc = 'sum')"
   ]
  },
  {
   "cell_type": "code",
   "execution_count": null,
   "metadata": {
    "collapsed": true
   },
   "outputs": [],
   "source": [
    "지점별보행점수 = 유동인구_속성조사.pivot_table(index = '조사지점코드', values = '보행점수', aggfunc = 'mean')"
   ]
  },
  {
   "cell_type": "code",
   "execution_count": null,
   "metadata": {
    "collapsed": true
   },
   "outputs": [],
   "source": [
    "유동인구.head(1)"
   ]
  },
  {
   "cell_type": "code",
   "execution_count": null,
   "metadata": {
    "collapsed": true
   },
   "outputs": [],
   "source": [
    "지점별 = pd.concat([지점별유동인구, 지점별보행점수], axis = 1)\n",
    "지점별"
   ]
  },
  {
   "cell_type": "code",
   "execution_count": null,
   "metadata": {
    "collapsed": true
   },
   "outputs": [],
   "source": [
    "지점별 = 지점별.join(조사지점.set_index('조사지점코드')['조사지점명'])"
   ]
  },
  {
   "cell_type": "code",
   "execution_count": null,
   "metadata": {
    "collapsed": true
   },
   "outputs": [],
   "source": [
    "지점별.sort_values(by = '보행점수')"
   ]
  },
  {
   "cell_type": "code",
   "execution_count": null,
   "metadata": {
    "collapsed": true
   },
   "outputs": [],
   "source": []
  }
 ],
 "metadata": {
  "kernelspec": {
   "display_name": "Python 3",
   "language": "python",
   "name": "python3"
  },
  "language_info": {
   "codemirror_mode": {
    "name": "ipython",
    "version": 3
   },
   "file_extension": ".py",
   "mimetype": "text/x-python",
   "name": "python",
   "nbconvert_exporter": "python",
   "pygments_lexer": "ipython3",
   "version": "3.6.1"
  }
 },
 "nbformat": 4,
 "nbformat_minor": 2
}
