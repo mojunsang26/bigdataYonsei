{
 "cells": [
  {
   "cell_type": "code",
   "execution_count": 1,
   "metadata": {
    "collapsed": true
   },
   "outputs": [],
   "source": [
    "import pandas as pd\n",
    "import numpy as np\n",
    "from pandas import Series, DataFrame"
   ]
  },
  {
   "cell_type": "markdown",
   "metadata": {},
   "source": [
    "# 왕좌의 게임 데이터 분석 (+ 시각화)"
   ]
  },
  {
   "cell_type": "markdown",
   "metadata": {},
   "source": [
    "## 1. Matplotlib 소개\n",
    "### - 파이썬에서 자료를 차트(chart)나 플롯(plot)으로 시각화(visulaization)하는 패키지\n",
    "### - Matplotlib는 다음과 같은 정형화된 차트나 플롯 이외에도 저수준 api를 사용한 다양한 시각화 기능 제공\n",
    "#### * 라인 플롯(line plot)\n",
    "#### * 스캐터 플롯(scatter plot)\n",
    "#### * 컨투어 플롯(contour plot)\n",
    "#### * 서피스 플롯(surface plot)\n",
    "#### * 바 차트(bar chart)\n",
    "#### * 히스토그램(histogram)\n",
    "#### * 박스 플롯(box plot)\n",
    "\n",
    "## [Matplotlib 갤러리 웹사이트]\n",
    "http://matplotlib.org/gallery.html"
   ]
  },
  {
   "cell_type": "code",
   "execution_count": null,
   "metadata": {
    "collapsed": true
   },
   "outputs": [],
   "source": [
    "인구통계 = {'서울': [1053.5, 1023, 987],\n",
    "        '경기':[1023, 1067, 1123],\n",
    "        '충청':[512,489,487],\n",
    "        '경상':[897, 872, 811],\n",
    "        '전라':[451, 421, 399]\n",
    "      }\n",
    "df = DataFrame(인구통계)\n",
    "df.index = [2015, 2016, 2017]\n",
    "df"
   ]
  },
  {
   "cell_type": "code",
   "execution_count": null,
   "metadata": {
    "collapsed": true
   },
   "outputs": [],
   "source": [
    "# 기본 그리기\n",
    "# https://pandas.pydata.org/pandas-docs/stable/generated/pandas.DataFrame.plot.html\n"
   ]
  },
  {
   "cell_type": "markdown",
   "metadata": {},
   "source": [
    "<img src=\"img/matplotlib인자.jpg\" alt=\" matplotlib\" style=\"width: 1200px;\"/>\n",
    "\n",
    "#### 색상: https://matplotlib.org/examples/color/named_colors.html\n",
    "#### 기타 스타일: https://matplotlib.org/api/_as_gen/matplotlib.lines.Line2D.html#matplotlib.lines.Line2D"
   ]
  },
  {
   "cell_type": "code",
   "execution_count": null,
   "metadata": {
    "collapsed": true
   },
   "outputs": [],
   "source": [
    "# 실습. 아래 그림처럼 연도별 지역별 인구수 그래프 그리기\n",
    "\n"
   ]
  },
  {
   "cell_type": "markdown",
   "metadata": {},
   "source": [
    "<img src=\"img/그림의구조.jpg\" alt=\"그림의구조\" style=\"width: 1200px;\"/>"
   ]
  },
  {
   "cell_type": "markdown",
   "metadata": {},
   "source": [
    "# matplotlib 기반 최신 시각화 라이브러리 소개\n",
    "1. seaborn\n",
    "  - matplotlib을 기반으로 만들어진 시각화 라이브러리\n",
    "  - 디자인적으로 훨씬 세련됨.  \n",
    "  - matplotlib와 사용방식이 유사하므로 쉽고 빠르게 습득할 수 있음.\n",
    "  - https://seaborn.pydata.org/\n",
    "\n",
    "2. bokeh\n",
    "  - 웹브라우저 상에서의 시각화에 효과적인 파이썬 인터랙티브 시각화 라이브러리\n",
    "  - 플롯을 html 파일로 export하여 이를 웹브라우저를 통해 확인할 수 있음.\n",
    "  - matplotlib와 비슷, jupyter와 호환이 잘 됨. \n",
    "  - https://bokeh.pydata.org/en/latest/\n",
    "\n",
    "3. Folium \n",
    "  - 지리적 데이터 시각화에 특화된 라이브러리 (leaflet.js 기반)\n",
    "  - 웹브라우저에서 확인 가능\n",
    "  - 지도 데이터 사용을 위해 선행되어야 하는 작업이 원래 매우 많은데, 이러한 선행작업을 간단화함.\n",
    "  - https://github.com/python-visualization/folium\n",
    "  - http://python-visualization.github.io/folium/docs-v0.5.0/\n",
    "  - http://pinkwink.kr/971"
   ]
  },
  {
   "cell_type": "markdown",
   "metadata": {},
   "source": [
    "## 2. 왕좌의 게임 데이터 분석 및 시각화 실습\n",
    "### 1) 데이터 적재"
   ]
  },
  {
   "cell_type": "code",
   "execution_count": 4,
   "metadata": {
    "collapsed": true
   },
   "outputs": [],
   "source": [
    "battles = pd.read_csv('data/data-society-game-of-thrones/battles.csv')\n",
    "death = pd.read_csv('data/data-society-game-of-thrones/character-deaths.csv')"
   ]
  },
  {
   "cell_type": "markdown",
   "metadata": {},
   "source": [
    "### 2) 책의 챕터별로 사망자 수 추이 시각화"
   ]
  },
  {
   "cell_type": "code",
   "execution_count": null,
   "metadata": {
    "collapsed": true
   },
   "outputs": [],
   "source": []
  },
  {
   "cell_type": "markdown",
   "metadata": {},
   "source": [
    "### 3) 대규모 전쟁의  공격진영과 수비 진영의 숫자 시각화\n",
    "#### 대규모 전쟁 = 공격과 수비 모두 합쳐서 10,000명 이상 참가한 전쟁"
   ]
  },
  {
   "cell_type": "code",
   "execution_count": null,
   "metadata": {
    "collapsed": true
   },
   "outputs": [],
   "source": []
  },
  {
   "cell_type": "markdown",
   "metadata": {},
   "source": [
    "### 4) (실습) 가문 별로 전쟁을 벌인 횟수 시각화"
   ]
  },
  {
   "cell_type": "code",
   "execution_count": 13,
   "metadata": {},
   "outputs": [
    {
     "data": {
      "image/png": "[encoded data removed]",
      "text/plain": [
       "<matplotlib.figure.Figure at 0xa445d68>"
      ]
     },
     "metadata": {},
     "output_type": "display_data"
    }
   ],
   "source": []
  },
  {
   "cell_type": "markdown",
   "metadata": {},
   "source": [
    "### 5) (실습) 년도별로 사망자의 숫자와 전쟁이 벌어진 횟수 시각화"
   ]
  },
  {
   "cell_type": "code",
   "execution_count": 40,
   "metadata": {},
   "outputs": [
    {
     "data": {
      "text/plain": [
       "<matplotlib.axes._subplots.AxesSubplot at 0xba49c50>"
      ]
     },
     "execution_count": 40,
     "metadata": {},
     "output_type": "execute_result"
    },
    {
     "data": {
      "image/png": "[encoded data removed]",
      "text/plain": [
       "<matplotlib.figure.Figure at 0xb9650f0>"
      ]
     },
     "metadata": {},
     "output_type": "display_data"
    }
   ],
   "source": []
  }
 ],
 "metadata": {
  "kernelspec": {
   "display_name": "Python 3",
   "language": "python",
   "name": "python3"
  },
  "language_info": {
   "codemirror_mode": {
    "name": "ipython",
    "version": 3
   },
   "file_extension": ".py",
   "mimetype": "text/x-python",
   "name": "python",
   "nbconvert_exporter": "python",
   "pygments_lexer": "ipython3",
   "version": "3.6.1"
  }
 },
 "nbformat": 4,
 "nbformat_minor": 2
}
